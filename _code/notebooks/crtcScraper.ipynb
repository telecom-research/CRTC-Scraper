{
 "cells": [
  {
   "cell_type": "code",
   "execution_count": null,
   "metadata": {
    "collapsed": false
   },
   "outputs": [],
   "source": [
    "import urllib.request\n",
    "from bs4 import BeautifulSoup"
   ]
  },
  {
   "cell_type": "code",
   "execution_count": null,
   "metadata": {
    "collapsed": false
   },
   "outputs": [],
   "source": [
    "with urllib.request.urlopen(\" http://www.crtc.gc.ca/eng/archive/2016/2016-496.htm\") as response:\n",
    "   html = response.read()"
   ]
  },
  {
   "cell_type": "code",
   "execution_count": null,
   "metadata": {
    "collapsed": false
   },
   "outputs": [],
   "source": [
    "print(html[0:600])"
   ]
  },
  {
   "cell_type": "code",
   "execution_count": null,
   "metadata": {
    "collapsed": false
   },
   "outputs": [],
   "source": [
    "f = open('2016-496.htm', 'wb')\n",
    "f.write(html)\n",
    "f.close"
   ]
  },
  {
   "cell_type": "markdown",
   "metadata": {},
   "source": [
    "---"
   ]
  },
  {
   "cell_type": "code",
   "execution_count": null,
   "metadata": {
    "collapsed": false
   },
   "outputs": [],
   "source": [
    "soup = BeautifulSoup(html, 'lxml')"
   ]
  },
  {
   "cell_type": "code",
   "execution_count": null,
   "metadata": {
    "collapsed": false
   },
   "outputs": [],
   "source": [
    "print(soup.prettify())"
   ]
  },
  {
   "cell_type": "code",
   "execution_count": null,
   "metadata": {
    "collapsed": false
   },
   "outputs": [],
   "source": [
    "soup.title.string"
   ]
  },
  {
   "cell_type": "code",
   "execution_count": null,
   "metadata": {
    "collapsed": false
   },
   "outputs": [],
   "source": [
    "text = soup.find(property=\"mainContentOfPage\")\n",
    "meta = soup.find(\"meta\").text"
   ]
  },
  {
   "cell_type": "code",
   "execution_count": null,
   "metadata": {
    "collapsed": false
   },
   "outputs": [],
   "source": [
    "print(meta)"
   ]
  },
  {
   "cell_type": "code",
   "execution_count": null,
   "metadata": {
    "collapsed": false
   },
   "outputs": [],
   "source": [
    "print(text.get_text())"
   ]
  },
  {
   "cell_type": "code",
   "execution_count": null,
   "metadata": {
    "collapsed": false
   },
   "outputs": [],
   "source": [
    "f = open('2016-496.html')\n",
    "f.write(text)\n",
    "f.close"
   ]
  },
  {
   "cell_type": "code",
   "execution_count": null,
   "metadata": {
    "collapsed": false
   },
   "outputs": [],
   "source": [
    "main = [text for text in text.stripped_strings]"
   ]
  },
  {
   "cell_type": "code",
   "execution_count": null,
   "metadata": {
    "collapsed": false
   },
   "outputs": [],
   "source": [
    "print(main)"
   ]
  },
  {
   "cell_type": "code",
   "execution_count": null,
   "metadata": {
    "collapsed": false,
    "scrolled": true
   },
   "outputs": [],
   "source": [
    "print(stripTags(html))"
   ]
  },
  {
   "cell_type": "markdown",
   "metadata": {},
   "source": [
    "----"
   ]
  },
  {
   "cell_type": "markdown",
   "metadata": {},
   "source": [
    "### Working Scrapy Code Snippets"
   ]
  },
  {
   "cell_type": "code",
   "execution_count": null,
   "metadata": {
    "collapsed": true
   },
   "outputs": [],
   "source": [
    "response.xpath('//main[@property=\"mainContentOfPage\"]').extract()\n",
    "\n",
    "# extracts total content of page"
   ]
  },
  {
   "cell_type": "code",
   "execution_count": null,
   "metadata": {
    "collapsed": true
   },
   "outputs": [],
   "source": [
    "keywords = response.xpath('//meta[@name=\"keywords\"]').re('content=\"(.*)\\\"')\n",
    "\n",
    "# extracts keywords from meta tag as list\n"
   ]
  },
  {
   "cell_type": "code",
   "execution_count": null,
   "metadata": {
    "collapsed": true
   },
   "outputs": [],
   "source": [
    "item['number'] = r.xpath('//title/text()').re('Decision\\s(.*)\\\\r')\n",
    "\n",
    "# extracts file name, but not reliably"
   ]
  },
  {
   "cell_type": "code",
   "execution_count": null,
   "metadata": {
    "collapsed": true
   },
   "outputs": [],
   "source": [
    "for metadata in response.xpath('//head'):\n",
    "    title = metadata.xpath('//meta[@name=\"dcterms.title\"]').re('content=\"(.*)\\\"')\n",
    "    doctype = metadata.xpath('//meta[@name=\"keywords\"]').re('content=\"(.*)\\\"')\n",
    "    keywords = metadata.xpath('//meta[@name=\"keywords\"]').re('content=\"(.*)\\\"')\n",
    "    print(dict(title=title, doctype=doctype, keywords=keywords))\n",
    "    \n",
    "# extracts metadata"
   ]
  },
  {
   "cell_type": "markdown",
   "metadata": {},
   "source": [
    "----"
   ]
  },
  {
   "cell_type": "code",
   "execution_count": null,
   "metadata": {
    "collapsed": false
   },
   "outputs": [],
   "source": [
    "%%bash\n",
    "\n",
    "cd ../crtc\n",
    "head metadata.json"
   ]
  },
  {
   "cell_type": "code",
   "execution_count": null,
   "metadata": {
    "collapsed": false
   },
   "outputs": [],
   "source": [
    "%%bash\n",
    "cd ../crtc\n",
    "grep -E metadata.json"
   ]
  },
  {
   "cell_type": "code",
   "execution_count": null,
   "metadata": {
    "collapsed": false
   },
   "outputs": [],
   "source": [
    "import ijson"
   ]
  },
  {
   "cell_type": "code",
   "execution_count": null,
   "metadata": {
    "collapsed": false
   },
   "outputs": [],
   "source": [
    "filename = \"../crtc/metadata.json\"\n",
    "with open(filename, 'r') as f:\n",
    "    objects = ijson.items(f, 'metadata.number.item')\n",
    "    items = list(objects)"
   ]
  },
  {
   "cell_type": "code",
   "execution_count": null,
   "metadata": {
    "collapsed": false
   },
   "outputs": [],
   "source": [
    "print(items)"
   ]
  },
  {
   "cell_type": "markdown",
   "metadata": {},
   "source": [
    "---"
   ]
  },
  {
   "cell_type": "code",
   "execution_count": 48,
   "metadata": {
    "collapsed": false
   },
   "outputs": [],
   "source": [
    "import json\n",
    "import pandas as pd\n",
    "from pprint import pprint"
   ]
  },
  {
   "cell_type": "code",
   "execution_count": 82,
   "metadata": {
    "collapsed": true
   },
   "outputs": [],
   "source": [
    "json_data=open(\"../crtc/metadata.json\").read()"
   ]
  },
  {
   "cell_type": "code",
   "execution_count": 83,
   "metadata": {
    "collapsed": false
   },
   "outputs": [
    {
     "name": "stdout",
     "output_type": "stream",
     "text": [
      "[{'file': ['2016-491',\n",
      "           [{'content': [{}],\n",
      "             'metadata': [{'date': [],\n",
      "                           'dateCreated': [],\n",
      "                           'dateIssued': ['2016-12-20'],\n",
      "                           'dateMod': ['2016-12-20'],\n",
      "                           'docType': ['Decisions'],\n",
      "                           'keywords': ['Broadcasting, Approval, Television, '\n",
      "                                        'Distribution undertakings, Licence '\n",
      "                                        'amendments, MTS Inc., The Cult Movie '\n",
      "                                        'Network'],\n",
      "                           'subject': ['Broadcasting, Approval, Television, '\n",
      "                                       'Distribution undertakings, Licence '\n",
      "                                       'amendments, MTS Inc., The Cult Movie '\n",
      "                                       'Network'],\n",
      "                           'title': ['Terrestrial broadcasting distribution '\n",
      "                                     'undertaking serving Winnipeg and '\n",
      "                                     'surrounding areas – Licence '\n",
      "                                     'amendment']}]}]]},\n",
      " {'file': ['DB97-1',\n",
      "           [{'content': [{}],\n",
      "             'metadata': [{'date': ['1997-01-14'],\n",
      "                           'dateCreated': [],\n",
      "                           'dateIssued': ['2007-09-20'],\n",
      "                           'dateMod': [],\n",
      "                           'docType': ['Decisions'],\n",
      "                           'keywords': ['Broadcasting'],\n",
      "                           'subject': ['Broadcasting'],\n",
      "                           'title': ['ARCHIVED - Revocation - Native '\n",
      "                                     'Communication Inc']}]}]]},\n",
      " {'file': ['C98-428',\n",
      "           [{'content': [{}],\n",
      "             'metadata': [{'date': [],\n",
      "                           'dateCreated': ['1998-02-26'],\n",
      "                           'dateIssued': ['2007-09-20'],\n",
      "                           'dateMod': [],\n",
      "                           'docType': ['Information bulletins'],\n",
      "                           'keywords': ['Broadcasting, Radio, Television, '\n",
      "                                        'Specialty services, Cable '\n",
      "                                        'distribution undertakings, Political '\n",
      "                                        'programming, Election period, '\n",
      "                                        'Partisan political advertising, '\n",
      "                                        'Equality, Broadcasting regulations, '\n",
      "                                        'Radio Regulations, Television '\n",
      "                                        'Broadcasting Regulations, Specialty '\n",
      "                                        'Services Regulations'],\n",
      "                           'subject': ['Broadcasting, Radio, Television, '\n",
      "                                       'Specialty services, Cable distribution '\n",
      "                                       'undertakings, Political programming, '\n",
      "                                       'Election period, Partisan political '\n",
      "                                       'advertising, Equality, Broadcasting '\n",
      "                                       'regulations, Radio Regulations, '\n",
      "                                       'Television Broadcasting Regulations, '\n",
      "                                       'Specialty Services Regulations'],\n",
      "                           'title': ['ARCHIVED - To the Licensees of '\n",
      "                                     'Broadcasting Undertakings and '\n",
      "                                     'Prospective Applicants - Guidelines '\n",
      "                                     'respecting the confidential treatment of '\n",
      "                                     'annual returns and material or '\n",
      "                                     'information filed in support of a '\n",
      "                                     'broadcasting application before the '\n",
      "                                     'Commission']}]}]]},\n",
      " {'file': ['2016-436',\n",
      "           [{'content': [{}],\n",
      "             'metadata': [{'date': [],\n",
      "                           'dateCreated': [],\n",
      "                           'dateIssued': ['2016-11-02'],\n",
      "                           'dateMod': ['2016-11-02'],\n",
      "                           'docType': ['Regulatory policies'],\n",
      "                           'keywords': ['Broadcasting, Regulatory policies, '\n",
      "                                        'Television, Conditions of licence, '\n",
      "                                        'Requirements, Television stations, '\n",
      "                                        'Discretionary services, Pay-per-view '\n",
      "                                        'television, Video-on-demand'],\n",
      "                           'subject': ['Broadcasting, Regulatory policies, '\n",
      "                                       'Television, Conditions of licence, '\n",
      "                                       'Requirements, Television stations, '\n",
      "                                       'Discretionary services, Pay-per-view '\n",
      "                                       'television, Video-on-demand'],\n",
      "                           'title': ['Standard requirements for television '\n",
      "                                     'stations, discretionary services, and '\n",
      "                                     'on-demand services']}]}]]}]\n"
     ]
    }
   ],
   "source": [
    "data = json.loads(json_data)\n",
    "pprint(data)"
   ]
  },
  {
   "cell_type": "code",
   "execution_count": 72,
   "metadata": {
    "collapsed": false
   },
   "outputs": [
    {
     "name": "stdout",
     "output_type": "stream",
     "text": [
      "2016-491\n"
     ]
    }
   ],
   "source": [
    "url = 'http://www.crtc.gc.ca/eng/archive/2016/2016-491.htm'\n",
    "page = url.split(\"/\")[-1]\n",
    "file = page.split(\".\")[0]\n",
    "print(file)"
   ]
  }
 ],
 "metadata": {
  "kernelspec": {
   "display_name": "Python 3",
   "language": "python",
   "name": "python3"
  },
  "language_info": {
   "codemirror_mode": {
    "name": "ipython",
    "version": 3
   },
   "file_extension": ".py",
   "mimetype": "text/x-python",
   "name": "python",
   "nbconvert_exporter": "python",
   "pygments_lexer": "ipython3",
   "version": "3.5.2"
  }
 },
 "nbformat": 4,
 "nbformat_minor": 0
}
