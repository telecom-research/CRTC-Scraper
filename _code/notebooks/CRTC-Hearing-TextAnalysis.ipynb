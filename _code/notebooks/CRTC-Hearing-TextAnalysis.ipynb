{
 "cells": [
  {
   "cell_type": "markdown",
   "metadata": {},
   "source": [
    "# CRTC Hearing Text Analysis"
   ]
  },
  {
   "cell_type": "markdown",
   "metadata": {},
   "source": [
    "The purpose of this notebook is to illustrate the method of text analysis using a corpus created from digital content published by the CRTC. This is the second part in a two-part process, the first of which is a description of the code that 'scraped' the CRTC webpage to create the corpus. "
   ]
  },
  {
   "cell_type": "markdown",
   "metadata": {},
   "source": [
    "## Setting Up"
   ]
  },
  {
   "cell_type": "markdown",
   "metadata": {},
   "source": [
    "The code below imports the modules that are required to process the text. "
   ]
  },
  {
   "cell_type": "code",
   "execution_count": 1,
   "metadata": {
    "collapsed": true
   },
   "outputs": [],
   "source": [
    "# importing code modules\n",
    "import json\n",
    "import ijson\n",
    "from ijson import items\n",
    "\n",
    "import pprint\n",
    "from tabulate import tabulate\n",
    "\n",
    "import matplotlib.pyplot as plt\n",
    "\n",
    "import re\n",
    "import csv\n",
    "import sys\n",
    "import codecs\n",
    "\n",
    "import nltk\n",
    "import nltk.collocations\n",
    "import collections\n",
    "import statistics\n",
    "from nltk.metrics.spearman import *\n",
    "from nltk.collocations import *\n",
    "from nltk.stem import WordNetLemmatizer\n",
    "\n",
    "\n",
    "# This is a function for reading the contents of files\n",
    "def read_file(filename):\n",
    "    \"Read the contents of FILENAME and return as a string.\"\n",
    "    infile = codecs.open(filename, 'r', 'utf-8')\n",
    "    contents = infile.read()\n",
    "    infile.close()\n",
    "    return contents"
   ]
  },
  {
   "cell_type": "markdown",
   "metadata": {},
   "source": [
    "### Reading the File\n",
    "This code loads and then reads the necessary files: the `json` file with all the hearing text, and a `txt` file with a list of stopwords, taken from here: http://www.lextek.com/manuals/onix/stopwords2.html. I've also added a few custom words."
   ]
  },
  {
   "cell_type": "code",
   "execution_count": 2,
   "metadata": {
    "collapsed": true
   },
   "outputs": [],
   "source": [
    "# loading the JSON file\n",
    "filename = \"../scrapy/hearing_result6.json\"\n",
    "\n",
    "# loading the stopwords file\n",
    "stopwords = read_file('cornellStopWords.txt')\n",
    "customStopwords = stopwords.split()"
   ]
  },
  {
   "cell_type": "code",
   "execution_count": 3,
   "metadata": {
    "collapsed": true
   },
   "outputs": [],
   "source": [
    "# reads the file and assigns the keys and values to a Python dictionary structure\n",
    "with open(filename, 'r') as f:\n",
    "    objects = ijson.items(f, 'item')\n",
    "    file = list(objects)"
   ]
  },
  {
   "cell_type": "markdown",
   "metadata": {},
   "source": [
    "A bit of error checking here to confirm the number of records in the file. We should have 14."
   ]
  },
  {
   "cell_type": "code",
   "execution_count": 4,
   "metadata": {},
   "outputs": [
    {
     "name": "stdout",
     "output_type": "stream",
     "text": [
      "14\n"
     ]
    }
   ],
   "source": [
    "# checks to see how many records we have\n",
    "print(len(file))"
   ]
  },
  {
   "cell_type": "markdown",
   "metadata": {},
   "source": [
    "Changing the number in the code below will print a different record from the file. Please remember that in coding, numbered lists begin at `0`."
   ]
  },
  {
   "cell_type": "code",
   "execution_count": null,
   "metadata": {
    "collapsed": true
   },
   "outputs": [],
   "source": [
    "# commenting this out to make the github notebook more readable.\n",
    "# prints all content in a single record. Changing the number shows a different record\n",
    "file[0]"
   ]
  },
  {
   "cell_type": "markdown",
   "metadata": {},
   "source": [
    "Here is a bit more error checking to confirm the record titles and their urls."
   ]
  },
  {
   "cell_type": "code",
   "execution_count": null,
   "metadata": {
    "collapsed": true
   },
   "outputs": [],
   "source": [
    "# iterates through each record in the file\n",
    "for row in file:\n",
    "    # prints the title of each record and its url\n",
    "    print(row['title'], \":\", row['url'])"
   ]
  },
  {
   "cell_type": "markdown",
   "metadata": {},
   "source": [
    "And a bit more processing to make the text more readable. It's printed below."
   ]
  },
  {
   "cell_type": "code",
   "execution_count": 5,
   "metadata": {
    "collapsed": true
   },
   "outputs": [],
   "source": [
    "# appends all of the text items to a single string object (rather than a list)\n",
    "joined_text = []\n",
    "for row in file:\n",
    "    joined_text.append(' '.join(row['text']))"
   ]
  },
  {
   "cell_type": "code",
   "execution_count": null,
   "metadata": {
    "collapsed": true
   },
   "outputs": [],
   "source": [
    "# shows the text. Changing the number displays a different record...\n",
    "# ...changing/removing the second number limits/expands the text shown.\n",
    "print(joined_text[5][:750])"
   ]
  },
  {
   "cell_type": "markdown",
   "metadata": {},
   "source": [
    "-----"
   ]
  },
  {
   "cell_type": "markdown",
   "metadata": {},
   "source": [
    "## Text Analysis Processing\n",
    "This is the begining of the first processing for the text analysis. Here we will split all the words apart, make them all lowercase, and remove the punctuation, numbers, and words on the stopword list."
   ]
  },
  {
   "cell_type": "code",
   "execution_count": 6,
   "metadata": {
    "collapsed": true,
    "scrolled": true
   },
   "outputs": [],
   "source": [
    "# splits the text string in each record into a list of separate words\n",
    "token_joined = []\n",
    "for words in joined_text:\n",
    "    # splits the text into a list of words\n",
    "    text = words.split()\n",
    "    # makes all words lowercase\n",
    "    clean = [w.lower() for w in text if w.isalpha()]\n",
    "    # applies stopword removal\n",
    "    text = [w for w in clean if w not in customStopwords]\n",
    "    token_joined.append(text)"
   ]
  },
  {
   "cell_type": "markdown",
   "metadata": {},
   "source": [
    "Since a word of interest is `guarantee`, here is a list of how many times that word (and its variations) appear in each record. "
   ]
  },
  {
   "cell_type": "code",
   "execution_count": null,
   "metadata": {
    "collapsed": true
   },
   "outputs": [],
   "source": [
    "#for title,word in zip(file,token_joined):\n",
    "   # print(title['title'],\"guarantee:\", word.count('guarantee'), \"guarantees:\", \\\n",
    "       #   word.count('guarantees'), \"guaranteed:\", word.count('guaranteed'))"
   ]
  },
  {
   "cell_type": "code",
   "execution_count": 33,
   "metadata": {},
   "outputs": [
    {
     "name": "stdout",
     "output_type": "stream",
     "text": [
      "Transcript, Hearing April 11, 2016  broadband: 180\n",
      "Transcript, Hearing April 12, 2016  broadband: 115\n",
      "Transcript, Hearing April 13, 2016  broadband: 51\n",
      "Transcript, Hearing April 14, 2016  broadband: 39\n",
      "Transcript, Hearing April 15, 2016  broadband: 56\n",
      "Transcript, Hearing April 18, 2016  broadband: 116\n",
      "Transcript, Hearing April 19, 2016  broadband: 63\n",
      "Transcript, Hearing April 20, 2016  broadband: 51\n",
      "Transcript, Hearing April 21, 2016  broadband: 168\n",
      "Transcript, Hearing April 22, 2016  broadband: 10\n",
      "Transcript, Hearing April 25, 2016  broadband: 95\n",
      "Transcript, Hearing April 26, 2016  broadband: 99\n",
      "Transcript, Hearing April 27, 2016  broadband: 57\n",
      "Transcript, Hearing April 28, 2016  broadband: 43\n"
     ]
    }
   ],
   "source": [
    "for title,word in zip(file,token_joined):\n",
    "    print(title['title'],\"broadband:\", word.count('broadband'))"
   ]
  },
  {
   "cell_type": "markdown",
   "metadata": {},
   "source": [
    "### Concordance\n",
    "It looks like record number 5 has the most occurences of the word `guarantee`. The code below isolates the record and creates a concordance based on the selected word."
   ]
  },
  {
   "cell_type": "code",
   "execution_count": 41,
   "metadata": {
    "collapsed": true
   },
   "outputs": [],
   "source": [
    "# splits the text from the record into a list of individual words\n",
    "words = joined_text[5].split()\n",
    "#assigns NLTK functionality to the text\n",
    "text = nltk.Text(words)"
   ]
  },
  {
   "cell_type": "code",
   "execution_count": 36,
   "metadata": {},
   "outputs": [
    {
     "name": "stdout",
     "output_type": "stream",
     "text": [
      "Displaying 25 of 180 matches:\n",
      " deferral accounts to extend their broadband internet services to a greater num\n",
      "and 2015, this initiative extended broadband access to more than 280 additional\n",
      "ng. 20 Some parties have said that broadband is a fundamental human right. Addr\n",
      "s to fast, affordable and reliable broadband service. 57 The record shows clear\n",
      "rly the overwhelming importance of broadband access to all Canadians-at home, a\n",
      "dians. 59 Concerns expressed about broadband included the higher costs, includi\n",
      "cus on three important issues: the broadband standard, the broadband subsidy an\n",
      "ssues: the broadband standard, the broadband subsidy and the transport subsidy.\n",
      "r written submission. 64 Fast: the Broadband standard. One of the core issues i\n",
      "larly whether basic should include broadband at a specified rate and if so what\n",
      "e position that basic must include broadband and we believe that there is some \n",
      " today that the establishment of a broadband standard for Canadians is actually\n",
      "d that provide subsidy support for broadband service and for transport connecti\n",
      "on to serve. 71 We have proposed a broadband standard of 25Mbps download and 3 \n",
      "he gaps that exist today in -- the broadband access needed by Northerners and w\n",
      "and should lead the development of broadband capability for all regions. 77 Tur\n",
      " the theme of “affordable” and the broadband subsidy. Access to a service is no\n",
      "al importance to them of access to broadband expressed the view that their serv\n",
      " Yukon's preferred approach to the broadband subsidy involves a CRTC-supervised\n",
      " the fast, affordable and reliable broadband service without subsidy support. I\n",
      "ubsidy: 85 From the perspective of broadband users, reliability means that the \n",
      "up-time performance. 86 Unreliable broadband connections have impacts beyond me\n",
      "res in our proposal establishing a broadband standard and implementing subsidy \n",
      "nd transport infrastructure -- for broadband service and transport infrastructu\n",
      " generating a robustly competitive broadband market, where telecom and cable fa\n",
      "None\n"
     ]
    }
   ],
   "source": [
    "# prints a concordance output for the selected word (shown in green)\n",
    "print(text.concordance('broadband', lines=25))"
   ]
  },
  {
   "cell_type": "code",
   "execution_count": 42,
   "metadata": {
    "collapsed": true
   },
   "outputs": [],
   "source": [
    "#creates a new file that can be written by the print queue\n",
    "fileconcord = codecs.open('April18_broadband_concord.txt', 'w', 'utf-8')\n",
    "#makes a copy of the empty print queue, so that we can return to it at the end of the function\n",
    "tmpout = sys.stdout\n",
    "#stores the text in the print queue\n",
    "sys.stdout = fileconcord\n",
    "#generates and prints the concordance, the number pertains to the total number of bytes per line\n",
    "text.concordance(\"broadband\", 79, sys.maxsize)\n",
    "#closes the file\n",
    "fileconcord.close()\n",
    "#returns the print queue to an empty state\n",
    "sys.stdout = tmpout"
   ]
  },
  {
   "cell_type": "markdown",
   "metadata": {},
   "source": [
    "Below is what the text looks like after the initial processing, without punctuation, numbers, or stopwords."
   ]
  },
  {
   "cell_type": "code",
   "execution_count": null,
   "metadata": {
    "collapsed": true
   },
   "outputs": [],
   "source": [
    "# shows the text list for a given record. Changing the first number displays a... \n",
    "# ...different record, changing/removing the second number limits/expands the text shown\n",
    "print(token_joined[5][:50])"
   ]
  },
  {
   "cell_type": "markdown",
   "metadata": {},
   "source": [
    "### Lemmatization\n",
    "Some more preparation for the text processing. The code below works on the all of the records, creating one master list of words which is then lemmatized."
   ]
  },
  {
   "cell_type": "code",
   "execution_count": 21,
   "metadata": {
    "collapsed": true
   },
   "outputs": [],
   "source": [
    "# creates a variable for the lemmatizing function\n",
    "wnl = WordNetLemmatizer()\n",
    "\n",
    "# lemmatizes all of the verbs\n",
    "lemm = []\n",
    "for record in token_joined:\n",
    "        for word in record:\n",
    "            lemm.append(wnl.lemmatize(word, 'v'))\n",
    "\n",
    "# lemmatizes all of the nouns \n",
    "lems = []\n",
    "for word in lemm:\n",
    "    lems.append(wnl.lemmatize(word, 'n'))"
   ]
  },
  {
   "cell_type": "markdown",
   "metadata": {},
   "source": [
    "Here we are checking to make sure the lemmatizer has worked. Now the word `guarantee` only appears in one form."
   ]
  },
  {
   "cell_type": "code",
   "execution_count": null,
   "metadata": {
    "collapsed": true
   },
   "outputs": [],
   "source": [
    "# just making sure the lemmatizer has worked\n",
    "#print(\"guarantee:\", lems.count('guarantee'), \"guarantees:\", \\\n",
    "         # lems.count('guarantees'), \"guaranteed:\", lems.count('guaranteed'))"
   ]
  },
  {
   "cell_type": "code",
   "execution_count": 43,
   "metadata": {},
   "outputs": [
    {
     "name": "stdout",
     "output_type": "stream",
     "text": [
      "broadband: 1143\n"
     ]
    }
   ],
   "source": [
    "print(\"broadband:\", lems.count('broadband'))"
   ]
  },
  {
   "cell_type": "markdown",
   "metadata": {},
   "source": [
    "### Word Frequency\n",
    "Here is a count of the number of words in each record. While this data isn't terribly useful 'as is', we can make a few assumptions about the text here. Notably that some of the hearings were much longer than others."
   ]
  },
  {
   "cell_type": "code",
   "execution_count": null,
   "metadata": {
    "collapsed": true
   },
   "outputs": [],
   "source": [
    "# counting the number of words in each record \n",
    "for name, each in zip(file,token_joined):\n",
    "    print(name['title'], \":\",len(each), \"words\")"
   ]
  },
  {
   "cell_type": "markdown",
   "metadata": {},
   "source": [
    "Here we will count the five most common words in each record."
   ]
  },
  {
   "cell_type": "code",
   "execution_count": null,
   "metadata": {
    "collapsed": true
   },
   "outputs": [],
   "source": [
    "docfreq = []\n",
    "for words in token_joined:\n",
    "    docfreq.append(nltk.FreqDist(words))"
   ]
  },
  {
   "cell_type": "code",
   "execution_count": null,
   "metadata": {
    "collapsed": true
   },
   "outputs": [],
   "source": [
    "for name, words in zip(file_obj, docfreq):\n",
    "    print(name['title'], \":\", words.most_common(5))"
   ]
  },
  {
   "cell_type": "markdown",
   "metadata": {},
   "source": [
    "These are the 10 most common word pairs in the text."
   ]
  },
  {
   "cell_type": "code",
   "execution_count": 23,
   "metadata": {},
   "outputs": [
    {
     "name": "stdout",
     "output_type": "stream",
     "text": [
      "service provider; market force; digital literacy; basic service; data\n",
      "cap; eastern ontario; fix wireless; private sector; low income; rural\n",
      "remote\n"
     ]
    }
   ],
   "source": [
    "# prints the 10 most common bigrams\n",
    "colText = nltk.Text(lems)\n",
    "colText.collocations(10)"
   ]
  },
  {
   "cell_type": "markdown",
   "metadata": {},
   "source": [
    "Error checking to make sure the code is processing the text properly."
   ]
  },
  {
   "cell_type": "code",
   "execution_count": null,
   "metadata": {
    "collapsed": true
   },
   "outputs": [],
   "source": [
    "# creates a list of bigrams (ngrams of 2), printing the first 5\n",
    "colBigrams = list(nltk.ngrams(colText, 2)) \n",
    "colBigrams[:5]"
   ]
  },
  {
   "cell_type": "markdown",
   "metadata": {},
   "source": [
    "More error checking."
   ]
  },
  {
   "cell_type": "code",
   "execution_count": null,
   "metadata": {
    "collapsed": true
   },
   "outputs": [],
   "source": [
    "# error checking. There should be one less bigram than total words\n",
    "print(\"Number of words:\", len(lems))\n",
    "print(\"Number of bigrams:\", len(colBigrams))"
   ]
  },
  {
   "cell_type": "markdown",
   "metadata": {},
   "source": [
    "Below is a frequency plot showing the occurence of the 25 most frequent words."
   ]
  },
  {
   "cell_type": "code",
   "execution_count": null,
   "metadata": {
    "collapsed": true
   },
   "outputs": [],
   "source": [
    "# frequency plot with stopwords removed\n",
    "%matplotlib inline\n",
    "plt.rcParams['figure.figsize'] = (10.0, 10.0)\n",
    "fd = nltk.FreqDist(colText)\n",
    "fd.plot(25)"
   ]
  },
  {
   "cell_type": "markdown",
   "metadata": {},
   "source": [
    "### Collocations\n",
    "Here we are preparing the text to search for bigrams containing the word `guarantee`. This code searches for words appearing before and after `guarantee` with a window size of two words on either side."
   ]
  },
  {
   "cell_type": "code",
   "execution_count": 44,
   "metadata": {
    "collapsed": true
   },
   "outputs": [],
   "source": [
    "# loads bigram code from NLTK\n",
    "bigram_measures = nltk.collocations.BigramAssocMeasures()\n",
    "# bigrams with a window size of 2 words\n",
    "finder = BigramCollocationFinder.from_words(lems, window_size = 2)\n",
    "# ngrams with 'word of interest' as a member\n",
    "word_filter = lambda *w: 'broadband' not in w\n",
    "# only bigrams that contain the 'word of interest'\n",
    "finder.apply_ngram_filter(word_filter)"
   ]
  },
  {
   "cell_type": "code",
   "execution_count": 45,
   "metadata": {
    "collapsed": true
   },
   "outputs": [],
   "source": [
    "# filter results based on statistical test\n",
    "\n",
    "# calulates the raw frequency as an actual number and percentage of total words\n",
    "act = finder.ngram_fd.items()\n",
    "raw = finder.score_ngrams(bigram_measures.raw_freq)\n",
    "# log-likelihood ratio\n",
    "log = finder.score_ngrams(bigram_measures.likelihood_ratio)"
   ]
  },
  {
   "cell_type": "markdown",
   "metadata": {},
   "source": [
    "Research shows that this is the most reliable statistical test for unreliable data. \n",
    "\n",
    "**Log-Likelihood Ratio**\n",
    "\n",
    "The Log-likelihood ratio calculates the size and significance between the observed and expected frequencies of bigrams and assigns a score based on the result, taking into account the overall size of the corpus. The larger the difference between the observed and expected, the higher the score, and the more statistically significant the collocate is.\n",
    "The Log-likelihood ratio is my preferred test for collocates because it does not rely on a normal distribution, and for this reason, it can account for sparse or low frequency bigrams. It does not over-represent low frequency bigrams with inflated scores, as the test is only reporting how much more likely it is that the frequencies are different than they are the same. The drawback to the Log-likelihood ratio is that it cannot be used to compare scores across corpora."
   ]
  },
  {
   "cell_type": "markdown",
   "metadata": {},
   "source": [
    "An important note here that **words will appear twice** in the following list. As the ngrams can appear both before and after the word, care must be taken to identify duplicate occurences in the list below and then combine the totals."
   ]
  },
  {
   "cell_type": "code",
   "execution_count": 26,
   "metadata": {},
   "outputs": [
    {
     "name": "stdout",
     "output_type": "stream",
     "text": [
      "Collocate                    Log-Likelihood\n",
      "---------------------------  ----------------\n",
      "('fibre', 'optic')           362.394\n",
      "('fibre', 'premise')         154.732\n",
      "('build', 'fibre')           74.151\n",
      "('fibre', 'trunk')           46.363\n",
      "('fibre', 'grid')            42.652\n",
      "('dark', 'fibre')            35.121\n",
      "('fibre', 'network')         34.979\n",
      "('fibre', 'build')           33.343\n",
      "('hybrid', 'fibre')          27.428\n",
      "('fibre', 'node')            25.847\n",
      "('fibre', 'grind')           25.576\n",
      "('fibre', 'infrastructure')  25.101\n",
      "('valley', 'fibre')          23.037\n",
      "('fibre', 'home')            22.971\n",
      "('fibre', 'prem')            22.759\n",
      "('bring', 'fibre')           21.257\n",
      "('deploy', 'fibre')          19.096\n",
      "('nan', 'fibre')             18.946\n",
      "('access', 'fibre')          18.224\n",
      "('fibre', 'backhaul')        17.967\n",
      "('put', 'fibre')             17.959\n",
      "('fibre', 'copper')          17.808\n",
      "('fibre', 'transport')       17.749\n",
      "('fibre', 'deeper')          17.227\n",
      "('fibre', 'fibre')           16.405\n",
      "('roll', 'fibre')            15.204\n",
      "('fibre', 'pop')             14.417\n",
      "('fibre', 'wireless')        14.024\n",
      "('submarine', 'fibre')       13.802\n",
      "('terrestrial', 'fibre')     13.390\n",
      "('fibre', 'line')            13.302\n",
      "('run', 'fibre')             12.817\n",
      "('fibre', 'flin')            12.805\n",
      "('fibre', 'bundle')          12.793\n",
      "('fibre', 'link')            12.793\n",
      "('push', 'fibre')            12.793\n",
      "('fibre', 'feasibility')     12.013\n",
      "('redundancy', 'fibre')      12.013\n",
      "('invest', 'fibre')          11.949\n",
      "('fibre', 'connection')      11.748\n",
      "('backhauled', 'fibre')      11.377\n",
      "('character', 'fibre')       11.377\n",
      "('dawn', 'fibre')            11.377\n",
      "('fibre', 'coaxial')         11.377\n",
      "('fibre', 'cranbrook')       11.377\n",
      "('fibre', 'greenfield')      11.377\n",
      "('fibre', 'homerun')         11.377\n",
      "('fibre', 'mistakenly')      11.377\n",
      "('fibre', 'optique')         11.377\n",
      "('fibre', 'regeneration')    11.377\n",
      "('fibre', 'rollouts')        11.377\n",
      "('lieu', 'fibre')            11.377\n",
      "('variability', 'fibre')     11.377\n",
      "('fibre', 'cross')           10.797\n",
      "('axia', 'fibre')            10.797\n",
      "('service', 'fibre')         10.412\n",
      "('discover', 'fibre')        9.877\n",
      "('install', 'fibre')         9.877\n",
      "('framework', 'fibre')       9.827\n",
      "('direct', 'fibre')          9.747\n",
      "('municipal', 'fibre')       9.514\n",
      "('mix', 'fibre')             9.490\n",
      "('fibre', 'deployment')      9.438\n",
      "('fibre', 'backbone')        9.364\n",
      "('extend', 'fibre')          9.364\n",
      "('fibre', 'plant')           9.139\n",
      "('full', 'fibre')            8.940\n",
      "('fibre', 'run')             8.670\n",
      "('angela', 'fibre')          8.611\n",
      "('eastmain', 'fibre')        8.611\n",
      "('fibre', 'kawartha')        8.611\n",
      "('fibre', 'proviso')         8.611\n",
      "('fibre', 'sleigh')          8.611\n",
      "('fibre', 'superior')        8.611\n",
      "('pioneer', 'fibre')         8.611\n",
      "('scratch', 'fibre')         8.611\n",
      "('superior', 'fibre')        8.611\n",
      "('fibre', 'economically')    8.252\n",
      "('fibre', 'cable')           8.187\n",
      "('talk', 'fibre')            8.023\n",
      "('compromise', 'fibre')      7.572\n",
      "('dalhousie', 'fibre')       7.572\n",
      "('underutilized', 'fibre')   7.572\n",
      "('fibre', 'gold')            7.572\n",
      "('fibre', 'fix')             7.538\n",
      "('regional', 'fibre')        7.486\n",
      "('fibre', 'place')           7.473\n",
      "('wireless', 'fibre')        7.246\n",
      "('fibre', 'replace')         7.040\n",
      "('capability', 'fibre')      7.040\n",
      "('replace', 'fibre')         7.040\n",
      "('world', 'fibre')           7.010\n",
      "('connect', 'fibre')         6.946\n",
      "('benign', 'fibre')          6.899\n",
      "('fibre', 'gradually')       6.899\n",
      "('fibre', 'scalable')        6.899\n",
      "('port', 'fibre')            6.899\n",
      "('trace', 'fibre')           6.899\n",
      "('complete', 'fibre')        6.858\n",
      "('essentially', 'fibre')     6.602\n",
      "('expensive', 'fibre')       6.602\n",
      "('deteriorate', 'fibre')     6.400\n",
      "('fibre', 'dempster')        6.400\n",
      "('fibre', 'ring')            6.400\n",
      "('incent', 'fibre')          6.400\n",
      "('microwave', 'fibre')       6.400\n",
      "('string', 'fibre')          6.400\n",
      "('undersea', 'fibre')        6.400\n",
      "('fibre', 'project')         6.339\n",
      "('backhaul', 'fibre')        6.289\n",
      "('copper', 'fibre')          6.215\n",
      "('fibre', 'main')            6.215\n",
      "('gigabit', 'fibre')         6.142\n",
      "('convert', 'fibre')         6.004\n",
      "('fibre', 'convert')         6.004\n",
      "('fibre', 'interfere')       6.004\n",
      "('fibre', 'nod')             6.004\n",
      "('nod', 'fibre')             6.004\n",
      "('optical', 'fibre')         6.004\n",
      "('proprietary', 'fibre')     6.004\n",
      "('ship', 'fibre')            6.004\n",
      "('slam', 'fibre')            6.004\n",
      "('swap', 'fibre')            6.004\n",
      "('purchase', 'fibre')        5.738\n",
      "('discretionary', 'fibre')   5.676\n",
      "('fibre', 'dispossess')      5.676\n",
      "('fibre', 'fulfil')          5.676\n",
      "('fibre', 'wave')            5.676\n",
      "('implication', 'fibre')     5.676\n",
      "('redundant', 'fibre')       5.676\n",
      "('bet', 'fibre')             5.396\n",
      "('considerably', 'fibre')    5.396\n",
      "('feed', 'fibre')            5.396\n",
      "('fibre', 'conscious')       5.396\n",
      "('fibre', 'defer')           5.396\n",
      "('fibre', 'recover')         5.396\n",
      "('fibre', 'submarine')       5.396\n",
      "('fibre', 'underserviced')   5.396\n",
      "('break', 'fibre')           5.266\n",
      "('fibre', 'break')           5.266\n",
      "('fibre', 'reduce')          5.212\n",
      "('fibre', 'end')             5.185\n",
      "('actual', 'fibre')          5.159\n",
      "('kilometre', 'fibre')       5.159\n",
      "('fastest', 'fibre')         5.152\n",
      "('fibre', 'cheap')           5.152\n",
      "('nearest', 'fibre')         5.152\n",
      "('fibre', 'framework')       5.055\n",
      "('backup', 'fibre')          4.937\n",
      "('fibre', 'backup')          4.937\n",
      "('fibre', 'edmonton')        4.937\n",
      "('fibre', 'ethernet')        4.937\n",
      "('fibre', 'extension')       4.937\n",
      "('fibre', 'greenland')       4.937\n",
      "('uptake', 'fibre')          4.937\n",
      "('coverage', 'fibre')        4.856\n",
      "('fibre', 'extend')          4.762\n",
      "('fibre', 'ongoing')         4.762\n",
      "('eastlink', 'fibre')        4.743\n",
      "('fibre', 'outage')          4.743\n",
      "('hospital', 'fibre')        4.743\n",
      "('pure', 'fibre')            4.743\n",
      "('billion', 'fibre')         4.715\n",
      "('belief', 'fibre')          4.568\n",
      "('creation', 'fibre')        4.568\n",
      "('nbdc', 'fibre')            4.568\n",
      "('fibre', 'nbn')             4.568\n",
      "('fibre', 'redirect')        4.568\n",
      "('tend', 'fibre')            4.537\n",
      "('fibre', 'service')         4.500\n",
      "('fibre', 'mile')            4.452\n",
      "('fibre', 'transportation')  4.408\n",
      "('foot', 'fibre')            4.408\n",
      "('recognition', 'fibre')     4.408\n",
      "('unit', 'fibre')            4.408\n",
      "('buck', 'fibre')            4.260\n",
      "('nunavik', 'fibre')         4.260\n",
      "('fibre', 'underlie')        4.260\n",
      "('fibre', 'upgrade')         4.172\n",
      "('community', 'fibre')       4.126\n",
      "('fibre', 'community')       4.126\n",
      "('fibre', 'greatly')         4.124\n",
      "('fibre', 'realistic')       4.124\n",
      "('fibre', 'visit')           4.124\n",
      "('street', 'fibre')          4.124\n",
      "('bandwidth', 'fibre')       4.096\n",
      "('wireline', 'fibre')        4.059\n",
      "('fibre', 'axia')            3.997\n",
      "('fibre', 'iqaluit')         3.997\n",
      "('fibre', 'footprint')       3.879\n",
      "('fibre', 'hub')             3.879\n",
      "('fibre', 'suddenly')        3.879\n",
      "('fibre', 'count')           3.768\n",
      "('fibre', 'route')           3.768\n",
      "('repair', 'fibre')          3.768\n",
      "('transmission', 'fibre')    3.768\n",
      "('fibre', 'simply')          3.682\n",
      "('figure', 'fibre')          3.682\n",
      "('fibre', 'central')         3.664\n",
      "('fibre', 'medical')         3.664\n",
      "('fibre', 'mobility')        3.664\n",
      "('arctic', 'fibre')          3.664\n",
      "('diverse', 'fibre')         3.664\n",
      "('elect', 'fibre')           3.664\n",
      "('equivalent', 'fibre')      3.664\n",
      "('parallel', 'fibre')        3.664\n",
      "('rollout', 'fibre')         3.664\n",
      "('segment', 'fibre')         3.664\n",
      "('supplier', 'fibre')        3.664\n",
      "('fibre', 'people')          3.645\n",
      "('calgary', 'fibre')         3.565\n",
      "('fibre', 'considerable')    3.565\n",
      "('fibre', 'generation')      3.472\n",
      "('fibre', 'installation')    3.472\n",
      "('fibre', 'worth')           3.472\n",
      "('highway', 'fibre')         3.472\n",
      "('installation', 'fibre')    3.472\n",
      "('legacy', 'fibre')          3.472\n",
      "('ten', 'fibre')             3.472\n",
      "('buy', 'fibre')             3.466\n",
      "('company', 'fibre')         3.435\n",
      "('transport', 'fibre')       3.399\n",
      "('alternative', 'fibre')     3.384\n",
      "('fibre', 'site')            3.384\n",
      "('grid', 'fibre')            3.384\n",
      "('symmetrical', 'fibre')     3.384\n",
      "('incumbent', 'fibre')       3.379\n",
      "('combination', 'fibre')     3.299\n",
      "('consume', 'fibre')         3.299\n",
      "('fibre', 'literally')       3.299\n",
      "('farm', 'fibre')            3.219\n",
      "('fibre', 'monopoly')        3.219\n",
      "('fibre', 'path')            3.219\n",
      "('plant', 'fibre')           3.219\n",
      "('promise', 'fibre')         3.219\n",
      "('radio', 'fibre')           3.219\n",
      "('carry', 'fibre')           3.143\n",
      "('debate', 'fibre')          3.143\n",
      "('island', 'fibre')          3.143\n",
      "('lay', 'fibre')             3.143\n",
      "('fibre', 'party')           3.082\n",
      "('fibre', 'loop')            3.069\n",
      "('fibre', 'obtain')          3.069\n",
      "('fibre', 'square')          3.069\n",
      "('fibre', 'strand')          3.069\n",
      "('loop', 'fibre')            3.069\n",
      "('strand', 'fibre')          3.069\n",
      "('broadband', 'fibre')       3.062\n",
      "('fibre', 'asset')           2.999\n",
      "('fibre', 'interconnect')    2.999\n",
      "('fibre', 'join')            2.999\n",
      "('interconnect', 'fibre')    2.999\n",
      "('scotia', 'fibre')          2.999\n",
      "('space', 'fibre')           2.999\n",
      "('fibre', 'facility')        2.982\n",
      "('fibre', 'love')            2.932\n",
      "('utility', 'fibre')         2.932\n",
      "('agreement', 'fibre')       2.867\n",
      "('fibre', 'walk')            2.867\n",
      "('premise', 'fibre')         2.867\n",
      "('fibre', 'fundamental')     2.805\n",
      "('fibre', 'intervenor')      2.805\n",
      "('bunch', 'fibre')           2.745\n",
      "('fibre', 'bunch')           2.745\n",
      "('fibre', 'come')            2.727\n",
      "('capacity', 'fibre')        2.699\n",
      "('make', 'fibre')            2.695\n",
      "('fibre', 'own')             2.687\n",
      "('take', 'fibre')            2.661\n",
      "('operation', 'fibre')       2.632\n",
      "('pull', 'fibre')            2.632\n",
      "('significantly', 'fibre')   2.632\n",
      "('stand', 'fibre')           2.632\n",
      "('fibre', 'internet')        2.606\n",
      "('fibre', 'history')         2.578\n",
      "('history', 'fibre')         2.578\n",
      "('leverage', 'fibre')        2.578\n",
      "('fibre', 'capable')         2.526\n",
      "('supernet', 'fibre')        2.526\n",
      "('fibre', 'happen')          2.516\n",
      "('fibre', 'pour')            2.475\n",
      "('concept', 'fibre')         2.427\n",
      "('fibre', 'marketplace')     2.427\n",
      "('month', 'fibre')           2.418\n",
      "('distribution', 'fibre')    2.379\n",
      "('head', 'fibre')            2.379\n",
      "('fibre', 'player')          2.379\n",
      "('fibre', 'connectivity')    2.361\n",
      "('department', 'fibre')      2.333\n",
      "('fibre', 'accessible')      2.333\n",
      "('fibre', 'telco')           2.333\n",
      "('telco', 'fibre')           2.333\n",
      "('de', 'fibre')              2.234\n",
      "('win', 'fibre')             2.204\n",
      "('fibre', 'open')            2.182\n",
      "('fibre', 'complete')        2.163\n",
      "('yesterday', 'fibre')       2.163\n",
      "('serve', 'fibre')           2.142\n",
      "('long', 'fibre')            2.131\n",
      "('cut', 'fibre')             2.123\n",
      "('example', 'fibre')         2.123\n",
      "('grind', 'fibre')           2.047\n",
      "('fibre', 'essentially')     2.047\n",
      "('fibre', 'connect')         2.010\n",
      "('context', 'fibre')         2.010\n",
      "('directly', 'fibre')        2.010\n",
      "('fibre', 'dsl')             1.974\n",
      "('huge', 'fibre')            1.974\n",
      "('fibre', 'specific')        1.924\n",
      "('sound', 'fibre')           1.905\n",
      "('light', 'fibre')           1.840\n",
      "('fibre', 'carrier')         1.777\n",
      "('fibre', 'wait')            1.777\n",
      "('realize', 'fibre')         1.777\n",
      "('wait', 'fibre')            1.777\n",
      "('fibre', 'point')           1.749\n",
      "('fibre', 'outcome')         1.747\n",
      "('advantage', 'fibre')       1.717\n",
      "('fibre', 'draw')            1.717\n",
      "('fibre', 'previous')        1.717\n",
      "('fibre', 'purchase')        1.660\n",
      "('distance', 'fibre')        1.632\n",
      "('know', 'fibre')            1.632\n",
      "('recent', 'fibre')          1.632\n",
      "('fibre', 'solution')        1.606\n",
      "('solution', 'fibre')        1.606\n",
      "('fibre', 'website')         1.605\n",
      "('million', 'fibre')         1.594\n",
      "('support', 'fibre')         1.576\n",
      "('provision', 'fibre')       1.552\n",
      "('town', 'fibre')            1.552\n",
      "('power', 'fibre')           1.527\n",
      "('source', 'fibre')          1.527\n",
      "('fibre', 'original')        1.502\n",
      "('piece', 'fibre')           1.502\n",
      "('fibre', 'smaller')         1.453\n",
      "('guy', 'fibre')             1.453\n",
      "('hope', 'fibre')            1.430\n",
      "('fibre', 'back')            1.418\n",
      "('fibre', 'kilometre')       1.407\n",
      "('fibre', 'hear')            1.389\n",
      "('hear', 'fibre')            1.389\n",
      "('fibre', 'exist')           1.371\n",
      "('fibre', 'model')           1.371\n",
      "('voice', 'fibre')           1.349\n",
      "('fibre', 'study')           1.340\n",
      "('fill', 'fibre')            1.319\n",
      "('fibre', 'accessibility')   1.298\n",
      "('fibre', 'larger')          1.298\n",
      "('product', 'fibre')         1.298\n",
      "('fibre', 'tell')            1.277\n",
      "('deployment', 'fibre')      1.257\n",
      "('fibre', 'unserved')        1.257\n",
      "('understand', 'fibre')      1.202\n",
      "('determine', 'fibre')       1.198\n",
      "('fibre', 'bid')             1.198\n",
      "('fibre', 'help')            1.198\n",
      "('list', 'fibre')            1.198\n",
      "('residential', 'fibre')     1.198\n",
      "('assume', 'fibre')          1.179\n",
      "('fibre', 'size')            1.179\n",
      "('aware', 'fibre')           1.161\n",
      "('fibre', 'form')            1.161\n",
      "('fibre', 'full')            1.125\n",
      "('fibre', 'initiative')      1.125\n",
      "('initiative', 'fibre')      1.125\n",
      "('sell', 'fibre')            1.125\n",
      "('fibre', 'local')           1.121\n",
      "('local', 'fibre')           1.121\n",
      "('area', 'fibre')            1.115\n",
      "('mile', 'fibre')            1.107\n",
      "('thing', 'fibre')           1.086\n",
      "('fibre', 'small')           1.049\n",
      "('explain', 'fibre')         1.040\n",
      "('versus', 'fibre')          1.040\n",
      "('house', 'fibre')           0.976\n",
      "('learn', 'fibre')           0.946\n",
      "('fibre', 'charge')          0.931\n",
      "('solve', 'fibre')           0.917\n",
      "('cover', 'fibre')           0.889\n",
      "('fibre', 'alberta')         0.889\n",
      "('fibre', 'conversation')    0.889\n",
      "('real', 'fibre')            0.889\n",
      "('fibre', 'area')            0.883\n",
      "('fibre', 'make')            0.879\n",
      "('city', 'fibre')            0.875\n",
      "('fibre', 'city')            0.875\n",
      "('fibre', 'la')              0.875\n",
      "('fibre', 'talk')            0.853\n",
      "('school', 'fibre')          0.821\n",
      "('fibre', 'earlier')         0.809\n",
      "('fibre', 'wonder')          0.809\n",
      "('additional', 'fibre')      0.783\n",
      "('fibre', 'offer')           0.779\n",
      "('fibre', 'ability')         0.771\n",
      "('fibre', 'reach')           0.771\n",
      "('map', 'fibre')             0.771\n",
      "('fibre', 'cost')            0.757\n",
      "('fibre', 'option')          0.747\n",
      "('fibre', 'pretty')          0.747\n",
      "('option', 'fibre')          0.747\n",
      "('plan', 'fibre')            0.746\n",
      "('achieve', 'fibre')         0.735\n",
      "('fibre', 'invest')          0.735\n",
      "('fibre', 'province')        0.735\n",
      "('fibre', 'question')        0.721\n",
      "('fibre', 'buy')             0.713\n",
      "('impact', 'fibre')          0.713\n",
      "('fibre', 'manage')          0.679\n",
      "('fibre', 'high')            0.657\n",
      "('bell', 'fibre')            0.637\n",
      "('drive', 'fibre')           0.627\n",
      "('fibre', 'drive')           0.627\n",
      "('network', 'fibre')         0.627\n",
      "('depend', 'fibre')          0.607\n",
      "('fibre', 'depend')          0.607\n",
      "('turn', 'fibre')            0.607\n",
      "('fibre', 'nunavut')         0.588\n",
      "('fibre', 'choose')          0.569\n",
      "('online', 'fibre')          0.569\n",
      "('party', 'fibre')           0.569\n",
      "('fibre', 'serve')           0.550\n",
      "('facility', 'fibre')        0.533\n",
      "('point', 'fibre')           0.530\n",
      "('bite', 'fibre')            0.525\n",
      "('fibre', 'sort')            0.517\n",
      "('fibre', 'decision')        0.515\n",
      "('agree', 'fibre')           0.490\n",
      "('fibre', 'discussion')      0.458\n",
      "('fibre', 'meg')             0.458\n",
      "('meg', 'fibre')             0.458\n",
      "('time', 'fibre')            0.451\n",
      "('fibre', 'issue')           0.447\n",
      "('fund', 'fibre')            0.446\n",
      "('propose', 'fibre')         0.443\n",
      "('fibre', 'rural')           0.429\n",
      "('rural', 'fibre')           0.429\n",
      "('gap', 'fibre')             0.428\n",
      "('include', 'fibre')         0.421\n",
      "('fibre', 'telecom')         0.414\n",
      "('private', 'fibre')         0.399\n",
      "('level', 'fibre')           0.387\n",
      "('fibre', 'minimum')         0.386\n",
      "('fibre', 'share')           0.386\n",
      "('share', 'fibre')           0.386\n",
      "('fibre', 'kind')            0.364\n",
      "('fibre', 'sense')           0.359\n",
      "('great', 'fibre')           0.359\n",
      "('day', 'fibre')             0.353\n",
      "('fibre', 'day')             0.353\n",
      "('speed', 'fibre')           0.352\n",
      "('change', 'fibre')          0.347\n",
      "('fibre', 'urban')           0.347\n",
      "('benefit', 'fibre')         0.334\n",
      "('fibre', 'future')          0.334\n",
      "('future', 'fibre')          0.334\n",
      "('connectivity', 'fibre')    0.322\n",
      "('fibre', 'year')            0.316\n",
      "('fibre', 'part')            0.311\n",
      "('fibre', 'show')            0.311\n",
      "('fibre', 'competitive')     0.305\n",
      "('line', 'fibre')            0.294\n",
      "('develop', 'fibre')         0.272\n",
      "('fibre', 'develop')         0.272\n",
      "('amount', 'fibre')          0.262\n",
      "('fibre', 'mean')            0.252\n",
      "('mean', 'fibre')            0.252\n",
      "('fibre', 'large')           0.247\n",
      "('large', 'fibre')           0.247\n",
      "('fibre', 'price')           0.238\n",
      "('reason', 'fibre')          0.237\n",
      "('fibre', 'big')             0.233\n",
      "('concern', 'fibre')         0.223\n",
      "('fibre', 'concern')         0.223\n",
      "('number', 'fibre')          0.221\n",
      "('fibre', 'experience')      0.214\n",
      "('government', 'fibre')      0.212\n",
      "('fibre', 'current')         0.206\n",
      "('fibre', 'satellite')       0.183\n",
      "('fibre', 'understand')      0.179\n",
      "('satellite', 'fibre')       0.162\n",
      "('fibre', 'deal')            0.162\n",
      "('good', 'fibre')            0.149\n",
      "('fibre', 'start')           0.143\n",
      "('start', 'fibre')           0.143\n",
      "('fibre', 'business')        0.138\n",
      "('ensure', 'fibre')          0.128\n",
      "('back', 'fibre')            0.120\n",
      "('fibre', 'provide')         0.102\n",
      "('provide', 'fibre')         0.102\n",
      "('fibre', 'quality')         0.096\n",
      "('fibre', 'create')          0.091\n",
      "('customer', 'fibre')        0.081\n",
      "('fibre', 'thing')           0.080\n",
      "('fibre', 'opportunity')     0.079\n",
      "('opportunity', 'fibre')     0.079\n",
      "('fibre', 'provider')        0.076\n",
      "('case', 'fibre')            0.074\n",
      "('fibre', 'access')          0.072\n",
      "('canada', 'fibre')          0.071\n",
      "('fibre', 'canada')          0.071\n",
      "('percent', 'fibre')         0.071\n",
      "('fibre', 'increase')        0.070\n",
      "('investment', 'fibre')      0.070\n",
      "('basic', 'fibre')           0.064\n",
      "('exist', 'fibre')           0.064\n",
      "('model', 'fibre')           0.064\n",
      "('home', 'fibre')            0.052\n",
      "('fibre', 'set')             0.049\n",
      "('set', 'fibre')             0.049\n",
      "('fibre', 'challenge')       0.049\n",
      "('fibre', 'technology')      0.042\n",
      "('move', 'fibre')            0.034\n",
      "('megabit', 'fibre')         0.026\n",
      "('focus', 'fibre')           0.018\n",
      "('fibre', 'put')             0.017\n",
      "('fibre', 'time')            0.016\n",
      "('find', 'fibre')            0.014\n",
      "('deliver', 'fibre')         0.014\n",
      "('fibre', 'bring')           0.014\n",
      "('lot', 'fibre')             0.014\n",
      "('fibre', 'meet')            0.010\n",
      "('give', 'fibre')            0.010\n",
      "('cost', 'fibre')            0.009\n",
      "('fibre', 'national')        0.005\n",
      "('pay', 'fibre')             0.004\n",
      "('high', 'fibre')            0.004\n",
      "('address', 'fibre')         0.002\n",
      "('require', 'fibre')         0.001\n",
      "('fibre', 'speak')           0.001\n",
      "('fibre', 'plan')            0.000\n",
      "('fibre', 'public')          0.000\n",
      "('public', 'fibre')          0.000\n",
      "('fibre', 'base')            0.000\n",
      "('offer', 'fibre')           0.000\n"
     ]
    }
   ],
   "source": [
    "# prints list of results. \n",
    "print(tabulate(log, headers = [\"Collocate\", \"Log-Likelihood\"], floatfmt=\".3f\", \\\n",
    "               numalign=\"left\"))"
   ]
  },
  {
   "cell_type": "markdown",
   "metadata": {},
   "source": [
    "Here is an example of words appearing twice. Below are both instances of the ngram 'quality'. The first instance appears before 'guarantee' and the second occurs after."
   ]
  },
  {
   "cell_type": "raw",
   "metadata": {},
   "source": [
    "Collocate                     Log-Likelihood\n",
    "----------------------------  ----------------\n",
    "('quality', 'guarantee')      76.826\n",
    "('guarantee', 'quality')      3.955\n"
   ]
  },
  {
   "cell_type": "markdown",
   "metadata": {},
   "source": [
    "A bit more processing to clean up the list."
   ]
  },
  {
   "cell_type": "code",
   "execution_count": 46,
   "metadata": {
    "collapsed": true
   },
   "outputs": [],
   "source": [
    "##################################################################\n",
    "############### sorts list of log-likelihood scores ##############\n",
    "##################################################################\n",
    "\n",
    "# group bigrams by first and second word in bigram                                        \n",
    "prefix_keys = collections.defaultdict(list)\n",
    "for key, l in log:\n",
    "    # first word\n",
    "    prefix_keys[key[0]].append((key[1], l))\n",
    "    # second word\n",
    "    prefix_keys[key[1]].append((key[0], l))\n",
    "    \n",
    "# sort bigrams by strongest association                                  \n",
    "for key in prefix_keys:\n",
    "    prefix_keys[key].sort(key = lambda x: -x[1])\n",
    "\n",
    "    # prints top 80 results\n",
    "logkeys = prefix_keys['broadband'][:80]"
   ]
  },
  {
   "cell_type": "markdown",
   "metadata": {},
   "source": [
    "Here is a list showing **only** the collocates for the word `guarantee`. Again, watch for duplicate words below."
   ]
  },
  {
   "cell_type": "code",
   "execution_count": 47,
   "metadata": {},
   "outputs": [
    {
     "name": "stdout",
     "output_type": "stream",
     "text": [
      "Collocate       Log-Likelihood\n",
      "--------------  ----------------\n",
      "national        346.547\n",
      "strategy        270.987\n",
      "access          172.274\n",
      "internet        169.642\n",
      "service         141.885\n",
      "deployment      130.166\n",
      "access          80.574\n",
      "infrastructure  52.387\n",
      "extend          50.341\n",
      "mobile          47.308\n",
      "basic           44.984\n",
      "affordable      42.809\n",
      "task            41.441\n",
      "include         39.877\n",
      "performance     38.065\n",
      "connectivity    37.753\n",
      "connection      30.573\n",
      "network         30.108\n",
      "basic           30.031\n",
      "association     29.782\n",
      "deliver         29.642\n",
      "bc              28.995\n",
      "importance      28.754\n",
      "provide         28.683\n",
      "basin           27.735\n",
      "residential     26.590\n",
      "provision       24.582\n",
      "development     24.270\n",
      "redefine        24.200\n",
      "penetration     23.360\n",
      "full            20.787\n",
      "vital           20.707\n",
      "universal       20.003\n",
      "arctic          19.194\n",
      "rollout         19.194\n",
      "target          17.301\n",
      "availability    17.228\n",
      "talk            16.539\n",
      "speed           15.441\n",
      "report          14.884\n",
      "important       13.921\n",
      "reliable        13.039\n",
      "expansion       12.901\n",
      "capability      12.894\n",
      "coverage        12.659\n",
      "bring           12.416\n",
      "nunavut         11.725\n",
      "delivery        11.378\n",
      "enhance         11.084\n",
      "wireline        10.611\n",
      "leader          10.431\n",
      "gap             10.270\n",
      "gap             10.270\n",
      "state           10.155\n",
      "america         9.829\n",
      "affordance      9.624\n",
      "attainment      9.624\n",
      "bracket         9.624\n",
      "audet           9.624\n",
      "bilecs          9.624\n",
      "dictionary      9.624\n",
      "fonctionnaire   9.624\n",
      "kettle          9.624\n",
      "offshoot        9.624\n",
      "slew            9.624\n",
      "smell           9.624\n",
      "taskforce       9.624\n",
      "engender        9.624\n",
      "flame           9.624\n",
      "hopelessly      9.624\n",
      "jupiter         9.624\n",
      "reclassify      9.624\n",
      "resemble        9.624\n",
      "suppress        9.624\n",
      "trainer         9.624\n",
      "ultrafast       9.624\n",
      "unsubsidized    9.624\n",
      "measure         9.558\n",
      "map             9.480\n",
      "inclusion       9.372\n"
     ]
    }
   ],
   "source": [
    "from tabulate import tabulate\n",
    "print(tabulate(logkeys, headers = [\"Collocate\", \"Log-Likelihood\"], floatfmt=\".3f\", \\\n",
    "               numalign=\"left\"))"
   ]
  },
  {
   "cell_type": "code",
   "execution_count": 31,
   "metadata": {
    "collapsed": true
   },
   "outputs": [],
   "source": [
    "with open('fibre_collocate_Log.csv','w') as f:\n",
    "    w = csv.writer(f)\n",
    "    w.writerows(logkeys)"
   ]
  },
  {
   "cell_type": "markdown",
   "metadata": {},
   "source": [
    "---"
   ]
  },
  {
   "cell_type": "code",
   "execution_count": null,
   "metadata": {
    "collapsed": true
   },
   "outputs": [],
   "source": [
    "# working on a regex to split text by speaker\n",
    "diced = []\n",
    "for words in joined_text:\n",
    "    diced.append(re.split('(\\d+(\\s)\\w+[A-Z](\\s|.\\s)\\w+[A-Z]:\\s)', words))"
   ]
  },
  {
   "cell_type": "code",
   "execution_count": null,
   "metadata": {
    "collapsed": true
   },
   "outputs": [],
   "source": [
    "print(diced[8])"
   ]
  },
  {
   "cell_type": "code",
   "execution_count": null,
   "metadata": {
    "collapsed": true
   },
   "outputs": [],
   "source": [
    "init_names = []\n",
    "for words in joined_text:\n",
    "    init_names.append(set(re.findall('[A-Z]{3,}', words)))"
   ]
  },
  {
   "cell_type": "code",
   "execution_count": null,
   "metadata": {
    "collapsed": true
   },
   "outputs": [],
   "source": [
    "print(init_names)"
   ]
  },
  {
   "cell_type": "code",
   "execution_count": null,
   "metadata": {
    "collapsed": true
   },
   "outputs": [],
   "source": [
    "with open('initialNames.csv','w') as f:\n",
    "    w = csv.writer(f)\n",
    "    w.writerows(init_names)"
   ]
  }
 ],
 "metadata": {
  "kernelspec": {
   "display_name": "Python 3",
   "language": "python",
   "name": "python3"
  },
  "language_info": {
   "codemirror_mode": {
    "name": "ipython",
    "version": 3
   },
   "file_extension": ".py",
   "mimetype": "text/x-python",
   "name": "python",
   "nbconvert_exporter": "python",
   "pygments_lexer": "ipython3",
   "version": "3.5.2"
  }
 },
 "nbformat": 4,
 "nbformat_minor": 1
}
