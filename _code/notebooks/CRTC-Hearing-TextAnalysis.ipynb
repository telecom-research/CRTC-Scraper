{
 "cells": [
  {
   "cell_type": "markdown",
   "metadata": {},
   "source": [
    "# CRTC Hearing Text Analysis"
   ]
  },
  {
   "cell_type": "markdown",
   "metadata": {},
   "source": [
    "The purpose of this notebook is to illustrate the method of text analysis using a corpus created from digital content published by the CRTC. This is the second part in a two-part process, the first of which is a description of the code that 'scraped' the CRTC webpage to create the corpus. "
   ]
  },
  {
   "cell_type": "markdown",
   "metadata": {},
   "source": [
    "----"
   ]
  },
  {
   "cell_type": "markdown",
   "metadata": {},
   "source": [
    "The code below imports the modules that are required to process the text. "
   ]
  },
  {
   "cell_type": "code",
   "execution_count": 1,
   "metadata": {
    "collapsed": true
   },
   "outputs": [],
   "source": [
    "# importing code modules\n",
    "import json\n",
    "import ijson\n",
    "from ijson import items\n",
    "\n",
    "import pprint\n",
    "from tabulate import tabulate\n",
    "\n",
    "import matplotlib.pyplot as plt\n",
    "\n",
    "import re\n",
    "import csv\n",
    "import sys\n",
    "import codecs\n",
    "\n",
    "import nltk\n",
    "import nltk.collocations\n",
    "import collections\n",
    "import statistics\n",
    "from nltk.metrics.spearman import *\n",
    "from nltk.collocations import *\n",
    "from nltk.stem import WordNetLemmatizer\n",
    "\n",
    "\n",
    "# This is a function for reading the contents of files\n",
    "def read_file(filename):\n",
    "    \"Read the contents of FILENAME and return as a string.\"\n",
    "    infile = codecs.open(filename, 'r', 'utf-8')\n",
    "    contents = infile.read()\n",
    "    infile.close()\n",
    "    return contents"
   ]
  },
  {
   "cell_type": "markdown",
   "metadata": {},
   "source": [
    "This code loads and then reads the necessary files: the `json` file with all the hearing text, and a `txt` file with a list of stopwords, taken from here: http://www.lextek.com/manuals/onix/stopwords2.html. I've also added a few custom words."
   ]
  },
  {
   "cell_type": "code",
   "execution_count": 2,
   "metadata": {
    "collapsed": true
   },
   "outputs": [],
   "source": [
    "# loading the JSON file\n",
    "filename = \"../scrapy/hearing_result6.json\"\n",
    "\n",
    "# loading the stopwords file\n",
    "stopwords = read_file('cornellStopWords.txt')\n",
    "customStopwords = stopwords.split()"
   ]
  },
  {
   "cell_type": "code",
   "execution_count": 3,
   "metadata": {
    "collapsed": true
   },
   "outputs": [],
   "source": [
    "# reads the file and assigns the keys and values to a Python dictionary structure\n",
    "with open(filename, 'r') as f:\n",
    "    objects = ijson.items(f, 'item')\n",
    "    file = list(objects)"
   ]
  },
  {
   "cell_type": "markdown",
   "metadata": {},
   "source": [
    "A bit of error checking here to confirm the number of records in the file. We should have 14."
   ]
  },
  {
   "cell_type": "code",
   "execution_count": 4,
   "metadata": {},
   "outputs": [
    {
     "name": "stdout",
     "output_type": "stream",
     "text": [
      "14\n"
     ]
    }
   ],
   "source": [
    "# checks to see how many records we have\n",
    "print(len(file))"
   ]
  },
  {
   "cell_type": "markdown",
   "metadata": {},
   "source": [
    "Changing the number in the code below will print a different record from the file. Please remember that in coding, numbered lists begin at `0`."
   ]
  },
  {
   "cell_type": "code",
   "execution_count": 5,
   "metadata": {},
   "outputs": [],
   "source": [
    "# commenting this out to make the github notebook more readable.\n",
    "# prints all content in a single record. Changing the number shows a different record\n",
    "#file[5]"
   ]
  },
  {
   "cell_type": "markdown",
   "metadata": {},
   "source": [
    "Here is a bit more error checking to confirm the record titles and their urls."
   ]
  },
  {
   "cell_type": "code",
   "execution_count": 6,
   "metadata": {},
   "outputs": [
    {
     "name": "stdout",
     "output_type": "stream",
     "text": [
      "Transcript, Hearing April 11, 2016  : http://www.crtc.gc.ca/eng/transcripts/2016/tt0411.htm\n",
      "Transcript, Hearing April 12, 2016  : http://www.crtc.gc.ca/eng/transcripts/2016/tt0412.htm\n",
      "Transcript, Hearing April 13, 2016  : http://www.crtc.gc.ca/eng/transcripts/2016/tt0413.htm\n",
      "Transcript, Hearing April 14, 2016  : http://www.crtc.gc.ca/eng/transcripts/2016/tt0414.htm\n",
      "Transcript, Hearing April 15, 2016  : http://www.crtc.gc.ca/eng/transcripts/2016/tt0415.htm\n",
      "Transcript, Hearing April 18, 2016  : http://www.crtc.gc.ca/eng/transcripts/2016/tt0418.htm\n",
      "Transcript, Hearing April 19, 2016  : http://www.crtc.gc.ca/eng/transcripts/2016/tt0419.htm\n",
      "Transcript, Hearing April 20, 2016  : http://www.crtc.gc.ca/eng/transcripts/2016/tt0420.htm\n",
      "Transcript, Hearing April 21, 2016  : http://www.crtc.gc.ca/eng/transcripts/2016/tt0421.htm\n",
      "Transcript, Hearing April 22, 2016  : http://www.crtc.gc.ca/eng/transcripts/2016/tt0422.htm\n",
      "Transcript, Hearing April 25, 2016  : http://www.crtc.gc.ca/eng/transcripts/2016/tt0425.htm\n",
      "Transcript, Hearing April 26, 2016  : http://www.crtc.gc.ca/eng/transcripts/2016/tt0426.htm\n",
      "Transcript, Hearing April 27, 2016  : http://www.crtc.gc.ca/eng/transcripts/2016/tt0427.htm\n",
      "Transcript, Hearing April 28, 2016  : http://www.crtc.gc.ca/eng/transcripts/2016/tt0428.htm\n"
     ]
    }
   ],
   "source": [
    "# iterates through each record in the file\n",
    "for row in file:\n",
    "    # prints the title of each record and its url\n",
    "    print(row['title'], \":\", row['url'])"
   ]
  },
  {
   "cell_type": "markdown",
   "metadata": {},
   "source": [
    "And a bit more processing to make the text more readable. It's printed below."
   ]
  },
  {
   "cell_type": "code",
   "execution_count": 7,
   "metadata": {},
   "outputs": [],
   "source": [
    "# appends all of the text items to a single string object (rather than a list)\n",
    "joined_text = []\n",
    "for row in file:\n",
    "    joined_text.append(' '.join(row['text']))"
   ]
  },
  {
   "cell_type": "code",
   "execution_count": 8,
   "metadata": {},
   "outputs": [
    {
     "name": "stdout",
     "output_type": "stream",
     "text": [
      "Transcript, Hearing April 18, 2016 Volume: 6  \r\n",
      "Location: Gatineau, Quebec \r\n",
      "Date: April 18, 2016 \r\n",
      "© Copyright Reserved Attendees and Location Held at: Outaouais Room \r\n",
      "Conference Centre \r\n",
      "140 Promenade du Portage \r\n",
      "Gatineau, Québec Attendees: Chairman: Jean-Pierre Blais Members: Candice Molnar, Peter Menzies, Linda Vennard, Christopher MacDonald Legal Counsel: Emilia de Somma, Amy Hamley Secretary: Jade Roy Hearing Managers :\r\n",
      "John Macri, Christine Bailey, Sarah O’Brian Transcript Gatineau, Québec --- Upon resuming on Monday, April 18, 2016 at 9:03 a.m. 6945 So those of you in the room, it will be abundantly clear that we will be doing a lot of interpretation today, but those listening that are from a distance may not have noticed. 6946 S\n"
     ]
    }
   ],
   "source": [
    "# shows the text. Changing the number displays a different record...\n",
    "# ...changing/removing the second number limits/expands the text shown.\n",
    "print(joined_text[5][:750])"
   ]
  },
  {
   "cell_type": "markdown",
   "metadata": {},
   "source": [
    "This is the begining of the first processing for the text analysis. Here we will split all the words apart, make them all lowercase, and remove the punctuation, numbers, and words on the stopword list."
   ]
  },
  {
   "cell_type": "code",
   "execution_count": 9,
   "metadata": {
    "scrolled": true
   },
   "outputs": [],
   "source": [
    "# splits the text string in each record into a list of separate words\n",
    "token_joined = []\n",
    "for words in joined_text:\n",
    "    # splits the text into a list of words\n",
    "    text = words.split()\n",
    "    # makes all words lowercase\n",
    "    clean = [w.lower() for w in text if w.isalpha()]\n",
    "    # applies stopword removal\n",
    "    text = [w for w in clean if w not in customStopwords]\n",
    "    token_joined.append(text)"
   ]
  },
  {
   "cell_type": "markdown",
   "metadata": {},
   "source": [
    "Since a word of interest is `guarantee`, here is a list of how many times that word (and its variations) appear in each record. "
   ]
  },
  {
   "cell_type": "code",
   "execution_count": 10,
   "metadata": {},
   "outputs": [
    {
     "name": "stdout",
     "output_type": "stream",
     "text": [
      "Transcript, Hearing April 11, 2016  guarantee: 1 guarantees: 0 guaranteed: 1\n",
      "Transcript, Hearing April 12, 2016  guarantee: 2 guarantees: 3 guaranteed: 0\n",
      "Transcript, Hearing April 13, 2016  guarantee: 0 guarantees: 2 guaranteed: 0\n",
      "Transcript, Hearing April 14, 2016  guarantee: 0 guarantees: 0 guaranteed: 0\n",
      "Transcript, Hearing April 15, 2016  guarantee: 1 guarantees: 1 guaranteed: 1\n",
      "Transcript, Hearing April 18, 2016  guarantee: 4 guarantees: 11 guaranteed: 2\n",
      "Transcript, Hearing April 19, 2016  guarantee: 0 guarantees: 0 guaranteed: 0\n",
      "Transcript, Hearing April 20, 2016  guarantee: 0 guarantees: 0 guaranteed: 0\n",
      "Transcript, Hearing April 21, 2016  guarantee: 2 guarantees: 0 guaranteed: 0\n",
      "Transcript, Hearing April 22, 2016  guarantee: 1 guarantees: 0 guaranteed: 0\n",
      "Transcript, Hearing April 25, 2016  guarantee: 0 guarantees: 1 guaranteed: 0\n",
      "Transcript, Hearing April 26, 2016  guarantee: 0 guarantees: 0 guaranteed: 0\n",
      "Transcript, Hearing April 27, 2016  guarantee: 1 guarantees: 0 guaranteed: 0\n",
      "Transcript, Hearing April 28, 2016  guarantee: 1 guarantees: 0 guaranteed: 0\n"
     ]
    }
   ],
   "source": [
    "for title,word in zip(file,token_joined):\n",
    "    print(title['title'],\"guarantee:\", word.count('guarantee'), \"guarantees:\", \\\n",
    "          word.count('guarantees'), \"guaranteed:\", word.count('guaranteed'))"
   ]
  },
  {
   "cell_type": "markdown",
   "metadata": {},
   "source": [
    "It looks like record number 5 has the most occurences of the word `guarantee`. The code below isolates the record and creates a concordance based on the selected word."
   ]
  },
  {
   "cell_type": "code",
   "execution_count": 11,
   "metadata": {
    "collapsed": true
   },
   "outputs": [],
   "source": [
    "# splits the text from the record into a list of individual words\n",
    "words = joined_text[5].split()\n",
    "#assigns NLTK functionality to the text\n",
    "text = nltk.Text(words)"
   ]
  },
  {
   "cell_type": "code",
   "execution_count": 12,
   "metadata": {},
   "outputs": [
    {
     "name": "stdout",
     "output_type": "stream",
     "text": [
      "Displaying 11 of 11 matches:\n",
      "age that includes minimum service guarantees at a reasonable price. 7230 Canad\n",
      "ckage that offers service quality guarantees to end users whose particular nee\n",
      "ot demand minimum service quality guarantees or symmetric speeds on fixed and \n",
      "ire minimum basic service quality guarantees for their reliable and safe utili\n",
      " includes minimum service quality guarantees and meets the minimum service sta\n",
      "o deliver minimum service quality guarantees to end users. 7241 Most of the la\n",
      "nical capacity of delivering such guarantees and, in fact, many do so on deman\n",
      "argue that they do not offer such guarantees to individuals and small-and-medi\n",
      "for service packages that include guarantees of minimum service quality operat\n",
      "t include minimum service quality guarantees would not only be critical for th\n",
      " taxes. So the quality of service guarantees and the disabilities rights offic\n",
      "None\n"
     ]
    }
   ],
   "source": [
    "# prints a concordance output for the selected word (shown in green)\n",
    "print(text.concordance('guarantees', lines=25))"
   ]
  },
  {
   "cell_type": "markdown",
   "metadata": {},
   "source": [
    "Below is what the text looks like after the initial processing, without punctuation, numbers, or stopwords."
   ]
  },
  {
   "cell_type": "code",
   "execution_count": 13,
   "metadata": {},
   "outputs": [
    {
     "name": "stdout",
     "output_type": "stream",
     "text": [
      "['hearing', 'april', 'quebec', 'april', 'copyright', 'reserved', 'attendees', 'location', 'held', 'outaouais', 'room', 'conference', 'centre', 'promenade', 'du', 'portage', 'québec', 'blais', 'candice', 'peter', 'linda', 'christopher', 'macdonald', 'legal', 'emilia', 'de', 'amy', 'hamley', 'jade', 'roy', 'hearing', 'managers', 'john', 'christine', 'sarah', 'transcript', 'québec', 'resuming', 'april', 'abundantly', 'clear', 'lot', 'interpretation', 'listening', 'distance', 'explaining', 'operate', 'french', 'english', 'morning']\n"
     ]
    }
   ],
   "source": [
    "# shows the text list for a given record. Changing the first number displays a... \n",
    "# ...different record, changing/removing the second number limits/expands the text shown\n",
    "print(token_joined[5][:50])"
   ]
  },
  {
   "cell_type": "markdown",
   "metadata": {},
   "source": [
    "Here is a count of the number of words in each record. While this data isn't terribly useful 'as is', we can make a few assumptions about the text here. Notably that some of the hearings were much longer than others."
   ]
  },
  {
   "cell_type": "code",
   "execution_count": 14,
   "metadata": {},
   "outputs": [
    {
     "name": "stdout",
     "output_type": "stream",
     "text": [
      "Transcript, Hearing April 11, 2016  : 16664 words\n",
      "Transcript, Hearing April 12, 2016  : 12891 words\n",
      "Transcript, Hearing April 13, 2016  : 8423 words\n",
      "Transcript, Hearing April 14, 2016  : 8319 words\n",
      "Transcript, Hearing April 15, 2016  : 4840 words\n",
      "Transcript, Hearing April 18, 2016  : 13523 words\n",
      "Transcript, Hearing April 19, 2016  : 10184 words\n",
      "Transcript, Hearing April 20, 2016  : 8541 words\n",
      "Transcript, Hearing April 21, 2016  : 12865 words\n",
      "Transcript, Hearing April 22, 2016  : 3400 words\n",
      "Transcript, Hearing April 25, 2016  : 14791 words\n",
      "Transcript, Hearing April 26, 2016  : 11804 words\n",
      "Transcript, Hearing April 27, 2016  : 7454 words\n",
      "Transcript, Hearing April 28, 2016  : 6803 words\n"
     ]
    }
   ],
   "source": [
    "# counting the number of words in each record \n",
    "for name, each in zip(file,token_joined):\n",
    "    print(name['title'], \":\",len(each), \"words\")"
   ]
  },
  {
   "cell_type": "markdown",
   "metadata": {},
   "source": [
    "Here is some more processing to count the occurences of words in the records as a whole."
   ]
  },
  {
   "cell_type": "code",
   "execution_count": 15,
   "metadata": {
    "collapsed": true
   },
   "outputs": [],
   "source": [
    "# counts the occurence of each word in the file\n",
    "for each in token_joined:\n",
    "    wordcounts = dict([ [t, each.count(t)] for t in set(each) ])"
   ]
  },
  {
   "cell_type": "code",
   "execution_count": 16,
   "metadata": {
    "collapsed": true
   },
   "outputs": [],
   "source": [
    "# sorts the list by highest frequency\n",
    "items = [(v, k) for k, v in wordcounts.items()]"
   ]
  },
  {
   "cell_type": "code",
   "execution_count": 17,
   "metadata": {
    "scrolled": true
   },
   "outputs": [
    {
     "name": "stdout",
     "output_type": "stream",
     "text": [
      "   60 people\n",
      "   43 broadband\n",
      "   42 access\n",
      "   40 make\n",
      "   40 commission\n",
      "   39 lot\n",
      "   37 terms\n",
      "   37 internet\n",
      "   35 question\n",
      "   35 put\n",
      "   34 service\n",
      "   34 data\n",
      "   33 canadians\n",
      "   29 government\n",
      "   26 things\n",
      "   26 digital\n",
      "   25 time\n",
      "   25 price\n",
      "   25 market\n",
      "   25 heard\n",
      "   25 cost\n",
      "   25 basic\n",
      "   24 talking\n",
      "   24 sort\n",
      "   24 point\n",
      "   23 problem\n",
      "   23 number\n",
      "   23 million\n",
      "   23 kind\n",
      "   22 transport\n",
      "   22 national\n",
      "   22 back\n",
      "   21 providers\n",
      "   21 issue\n",
      "   21 important\n",
      "   21 bit\n",
      "   21 answer\n",
      "   21 affordability\n",
      "   20 services\n",
      "   20 public\n",
      "   20 prices\n",
      "   20 good\n",
      "   20 based\n",
      "   19 work\n",
      "   19 thing\n",
      "   19 targets\n",
      "   19 start\n",
      "   19 role\n",
      "   18 years\n",
      "   18 money\n"
     ]
    }
   ],
   "source": [
    "# prints the list in a nicer format, here showing only the top 50 words\n",
    "for count, word in sorted(items, reverse=True)[:50]:\n",
    "    print(\"%5d %s\" % (count, word))"
   ]
  },
  {
   "cell_type": "markdown",
   "metadata": {},
   "source": [
    "Some more preparation for the text processing. The code below works on the all of the records, creating one master list of words which is then lemmatized."
   ]
  },
  {
   "cell_type": "code",
   "execution_count": 18,
   "metadata": {},
   "outputs": [],
   "source": [
    "# creates a variable for the lemmatizing function\n",
    "wnl = WordNetLemmatizer()\n",
    "\n",
    "# lemmatizes all of the verbs\n",
    "lemm = []\n",
    "for record in token_joined:\n",
    "        for word in record:\n",
    "            lemm.append(wnl.lemmatize(word, 'v'))\n",
    "\n",
    "# lemmatizes all of the nouns \n",
    "lems = []\n",
    "for word in lemm:\n",
    "    lems.append(wnl.lemmatize(word, 'n'))"
   ]
  },
  {
   "cell_type": "markdown",
   "metadata": {},
   "source": [
    "Here we are checking to make sure the lemmatizer has worked. Now the word `guarantee` only appears in one form."
   ]
  },
  {
   "cell_type": "code",
   "execution_count": 19,
   "metadata": {},
   "outputs": [
    {
     "name": "stdout",
     "output_type": "stream",
     "text": [
      "guarantee: 36 guarantees: 0 guaranteed: 0\n"
     ]
    }
   ],
   "source": [
    "# just making sure the lemmatizer has worked\n",
    "print(\"guarantee:\", lems.count('guarantee'), \"guarantees:\", \\\n",
    "          lems.count('guarantees'), \"guaranteed:\", lems.count('guaranteed'))"
   ]
  },
  {
   "cell_type": "markdown",
   "metadata": {},
   "source": [
    "These are the 10 most common word pairs in the text."
   ]
  },
  {
   "cell_type": "code",
   "execution_count": 20,
   "metadata": {},
   "outputs": [
    {
     "name": "stdout",
     "output_type": "stream",
     "text": [
      "service provider; market force; digital literacy; basic service; data\n",
      "cap; eastern ontario; fix wireless; private sector; low income; rural\n",
      "remote\n"
     ]
    }
   ],
   "source": [
    "# prints the 10 most common bigrams\n",
    "colText = nltk.Text(lems)\n",
    "colText.collocations(10)"
   ]
  },
  {
   "cell_type": "markdown",
   "metadata": {},
   "source": [
    "Error checking to make sure the code is processing the text properly."
   ]
  },
  {
   "cell_type": "code",
   "execution_count": 21,
   "metadata": {},
   "outputs": [
    {
     "data": {
      "text/plain": [
       "[('hear', 'april'),\n",
       " ('april', 'quebec'),\n",
       " ('quebec', 'april'),\n",
       " ('april', 'copyright'),\n",
       " ('copyright', 'reserve')]"
      ]
     },
     "execution_count": 21,
     "metadata": {},
     "output_type": "execute_result"
    }
   ],
   "source": [
    "# creates a list of bigrams (ngrams of 2), printing the first 5\n",
    "colBigrams = list(nltk.ngrams(colText, 2)) \n",
    "colBigrams[:5]"
   ]
  },
  {
   "cell_type": "markdown",
   "metadata": {},
   "source": [
    "More error checking."
   ]
  },
  {
   "cell_type": "code",
   "execution_count": 22,
   "metadata": {},
   "outputs": [
    {
     "name": "stdout",
     "output_type": "stream",
     "text": [
      "Number of words: 140502\n",
      "Number of bigrams: 140501\n"
     ]
    }
   ],
   "source": [
    "# error checking. There should be one less bigram than total words\n",
    "print(\"Number of words:\", len(lems))\n",
    "print(\"Number of bigrams:\", len(colBigrams))"
   ]
  },
  {
   "cell_type": "markdown",
   "metadata": {},
   "source": [
    "Below is a frequency plot showing the occurence of the 25 most frequent words."
   ]
  },
  {
   "cell_type": "code",
   "execution_count": 23,
   "metadata": {},
   "outputs": [
    {
     "data": {
      "image/png": "[encoded data removed]",
      "text/plain": [
       "<matplotlib.figure.Figure at 0x110f0f2e8>"
      ]
     },
     "metadata": {},
     "output_type": "display_data"
    }
   ],
   "source": [
    "# frequency plot with stopwords removed\n",
    "%matplotlib inline\n",
    "plt.rcParams['figure.figsize'] = (10.0, 10.0)\n",
    "fd = nltk.FreqDist(colText)\n",
    "fd.plot(25)"
   ]
  },
  {
   "cell_type": "markdown",
   "metadata": {},
   "source": [
    "Here we are preparing the text to search for bigrams containing the word `guarantee`. This code searches for words appearing before and after `guarantee` with a window size of two words on either side."
   ]
  },
  {
   "cell_type": "code",
   "execution_count": 24,
   "metadata": {
    "collapsed": true
   },
   "outputs": [],
   "source": [
    "# loads bigram code from NLTK\n",
    "bigram_measures = nltk.collocations.BigramAssocMeasures()\n",
    "# bigrams with a window size of 2 words\n",
    "finder = BigramCollocationFinder.from_words(lems, window_size = 2)\n",
    "# ngrams with 'word of interest' as a member\n",
    "word_filter = lambda *w: 'guarantee' not in w\n",
    "# only bigrams that contain the 'word of interest'\n",
    "finder.apply_ngram_filter(word_filter)"
   ]
  },
  {
   "cell_type": "code",
   "execution_count": 25,
   "metadata": {
    "collapsed": true
   },
   "outputs": [],
   "source": [
    "# filter results based on statistical test\n",
    "\n",
    "# calulates the raw frequency as an actual number and percentage of total words\n",
    "act = finder.ngram_fd.items()\n",
    "raw = finder.score_ngrams(bigram_measures.raw_freq)\n",
    "# log-likelihood ratio\n",
    "log = finder.score_ngrams(bigram_measures.likelihood_ratio)"
   ]
  },
  {
   "cell_type": "markdown",
   "metadata": {},
   "source": [
    "Research shows that this is the most reliable statistical test for unreliable data. \n",
    "\n",
    "**Log-Likelihood Ratio**\n",
    "\n",
    "The Log-likelihood ratio calculates the size and significance between the observed and expected frequencies of bigrams and assigns a score based on the result, taking into account the overall size of the corpus. The larger the difference between the observed and expected, the higher the score, and the more statistically significant the collocate is.\n",
    "The Log-likelihood ratio is my preferred test for collocates because it does not rely on a normal distribution, and for this reason, it can account for sparse or low frequency bigrams. It does not over-represent low frequency bigrams with inflated scores, as the test is only reporting how much more likely it is that the frequencies are different than they are the same. The drawback to the Log-likelihood ratio is that it cannot be used to compare scores across corpora."
   ]
  },
  {
   "cell_type": "markdown",
   "metadata": {},
   "source": [
    "An important note here that **words will appear twice** in the following list. As the ngrams can appear both before and after the word, care must be taken to identify duplicate occurences in the list below and then combine the totals."
   ]
  },
  {
   "cell_type": "code",
   "execution_count": 26,
   "metadata": {},
   "outputs": [
    {
     "name": "stdout",
     "output_type": "stream",
     "text": [
      "Collocate                     Log-Likelihood\n",
      "----------------------------  ----------------\n",
      "('quality', 'guarantee')      76.826\n",
      "('guarantee', 'minimum')      29.905\n",
      "('incentivize', 'guarantee')  16.567\n",
      "('guarantee', 'critical')     15.615\n",
      "('level', 'guarantee')        15.213\n",
      "('guarantee', 'reliable')     15.003\n",
      "('incapable', 'guarantee')    13.795\n",
      "('guarantee', 'demand')       13.251\n",
      "('embargo', 'guarantee')      12.070\n",
      "('headline', 'guarantee')     11.565\n",
      "('safety', 'guarantee')       9.870\n",
      "('guarantee', 'symmetric')    9.522\n",
      "('guarantee', 'end')          9.398\n",
      "('guarantee', 'translate')    9.226\n",
      "('guarantee', 'congestion')   8.969\n",
      "('guarantee', 'notion')       7.620\n",
      "('guarantee', 'guarantee')    7.445\n",
      "('pas', 'guarantee')          6.671\n",
      "('measure', 'guarantee')      6.296\n",
      "('guarantee', 'board')        6.063\n",
      "('guarantee', 'residential')  5.905\n",
      "('size', 'guarantee')         5.880\n",
      "('operator', 'guarantee')     5.782\n",
      "('average', 'guarantee')      5.712\n",
      "('guarantee', 'versus')       5.690\n",
      "('guarantee', 'result')       5.558\n",
      "('guarantee', 'incumbent')    5.160\n",
      "('guarantee', 'disability')   5.012\n",
      "('service', 'guarantee')      4.836\n",
      "('guarantee', 'reasonable')   4.774\n",
      "('guarantee', 'individual')   4.408\n",
      "('guarantee', 'quality')      3.955\n",
      "('megabit', 'guarantee')      3.652\n",
      "('deliver', 'guarantee')      3.564\n",
      "('money', 'guarantee')        3.394\n",
      "('offer', 'guarantee')        3.343\n",
      "('guarantee', 'speak')        3.293\n",
      "('guarantee', 'meet')         3.164\n",
      "('include', 'guarantee')      2.977\n",
      "('guarantee', 'level')        2.937\n",
      "('market', 'guarantee')       2.878\n",
      "('guarantee', 'data')         2.737\n",
      "('guarantee', 'year')         2.414\n",
      "('kind', 'guarantee')         2.354\n",
      "('guarantee', 'sort')         2.192\n",
      "('speed', 'guarantee')        2.026\n",
      "('term', 'guarantee')         1.767\n",
      "('guarantee', 'provide')      1.740\n",
      "('provide', 'guarantee')      1.740\n",
      "('guarantee', 'basic')        1.674\n",
      "('guarantee', 'community')    1.177\n",
      "('guarantee', 'people')       0.925\n"
     ]
    }
   ],
   "source": [
    "# prints list of results. \n",
    "print(tabulate(log, headers = [\"Collocate\", \"Log-Likelihood\"], floatfmt=\".3f\", \\\n",
    "               numalign=\"left\"))"
   ]
  },
  {
   "cell_type": "markdown",
   "metadata": {},
   "source": [
    "Here is an example of words appearing twice. Below are both instances of the ngram 'quality'. The first instance appears before 'guarantee' and the second occurs after."
   ]
  },
  {
   "cell_type": "raw",
   "metadata": {},
   "source": [
    "Collocate                     Log-Likelihood\n",
    "----------------------------  ----------------\n",
    "('quality', 'guarantee')      76.826\n",
    "('guarantee', 'quality')      3.955\n"
   ]
  },
  {
   "cell_type": "markdown",
   "metadata": {},
   "source": [
    "A bit more processing to clean up the list."
   ]
  },
  {
   "cell_type": "code",
   "execution_count": 27,
   "metadata": {
    "collapsed": true
   },
   "outputs": [],
   "source": [
    "##################################################################\n",
    "############### sorts list of log-likelihood scores ##############\n",
    "##################################################################\n",
    "\n",
    "# group bigrams by first and second word in bigram                                        \n",
    "prefix_keys = collections.defaultdict(list)\n",
    "for key, l in log:\n",
    "    # first word\n",
    "    prefix_keys[key[0]].append((key[1], l))\n",
    "    # second word\n",
    "    prefix_keys[key[1]].append((key[0], l))\n",
    "    \n",
    "# sort bigrams by strongest association                                  \n",
    "for key in prefix_keys:\n",
    "    prefix_keys[key].sort(key = lambda x: -x[1])\n",
    "\n",
    "    # prints top 80 results\n",
    "logkeys = prefix_keys['guarantee'][:80]"
   ]
  },
  {
   "cell_type": "markdown",
   "metadata": {},
   "source": [
    "Here is a list showing **only** the collocates for the word `guarantee`. Again, watch for duplicate words below."
   ]
  },
  {
   "cell_type": "code",
   "execution_count": 28,
   "metadata": {},
   "outputs": [
    {
     "name": "stdout",
     "output_type": "stream",
     "text": [
      "Collocate    Log-Likelihood\n",
      "-----------  ----------------\n",
      "quality      76.826\n",
      "minimum      29.905\n",
      "incentivize  16.567\n",
      "critical     15.615\n",
      "level        15.213\n",
      "reliable     15.003\n",
      "incapable    13.795\n",
      "demand       13.251\n",
      "embargo      12.070\n",
      "headline     11.565\n",
      "safety       9.870\n",
      "symmetric    9.522\n",
      "end          9.398\n",
      "translate    9.226\n",
      "congestion   8.969\n",
      "notion       7.620\n",
      "guarantee    7.445\n",
      "guarantee    7.445\n",
      "pas          6.671\n",
      "measure      6.296\n",
      "board        6.063\n",
      "residential  5.905\n",
      "size         5.880\n",
      "operator     5.782\n",
      "average      5.712\n",
      "versus       5.690\n",
      "result       5.558\n",
      "incumbent    5.160\n",
      "disability   5.012\n",
      "service      4.836\n",
      "reasonable   4.774\n",
      "individual   4.408\n",
      "quality      3.955\n",
      "megabit      3.652\n",
      "deliver      3.564\n",
      "money        3.394\n",
      "offer        3.343\n",
      "speak        3.293\n",
      "meet         3.164\n",
      "include      2.977\n",
      "level        2.937\n",
      "market       2.878\n",
      "data         2.737\n",
      "year         2.414\n",
      "kind         2.354\n",
      "sort         2.192\n",
      "speed        2.026\n",
      "term         1.767\n",
      "provide      1.740\n",
      "provide      1.740\n",
      "basic        1.674\n",
      "community    1.177\n",
      "people       0.925\n"
     ]
    }
   ],
   "source": [
    "from tabulate import tabulate\n",
    "print(tabulate(logkeys, headers = [\"Collocate\", \"Log-Likelihood\"], floatfmt=\".3f\", \\\n",
    "               numalign=\"left\"))"
   ]
  },
  {
   "cell_type": "markdown",
   "metadata": {},
   "source": [
    "---"
   ]
  },
  {
   "cell_type": "code",
   "execution_count": 29,
   "metadata": {
    "collapsed": true
   },
   "outputs": [],
   "source": [
    "# working on a regex to split text by speaker\n",
    "#diced = re.split('(\\d+(\\s)\\w+[A-Z](\\s|.\\s)\\w+[A-Z]:\\s)', joined)"
   ]
  }
 ],
 "metadata": {
  "kernelspec": {
   "display_name": "Python 3",
   "language": "python",
   "name": "python3"
  },
  "language_info": {
   "codemirror_mode": {
    "name": "ipython",
    "version": 3
   },
   "file_extension": ".py",
   "mimetype": "text/x-python",
   "name": "python",
   "nbconvert_exporter": "python",
   "pygments_lexer": "ipython3",
   "version": "3.5.2"
  }
 },
 "nbformat": 4,
 "nbformat_minor": 1
}
