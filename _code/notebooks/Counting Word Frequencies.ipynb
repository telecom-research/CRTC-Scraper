{
 "cells": [
  {
   "cell_type": "markdown",
   "metadata": {},
   "source": [
    "# Counting Word Frequencies with Python"
   ]
  },
  {
   "cell_type": "markdown",
   "metadata": {},
   "source": [
    "The debates that occur in the Canadian Parliament are transcribed and published in a document known as <i>Hansard</i>. Since 2006, <i>Hansard</i> has been available for public download in <code>.xml</code> file format. To date, this archive contains over 57 million words. By converting these transcripts from <code>.xml</code> to <code>.txt</code>, the files can be processed in numerous ways with the <i>Python</i> coding language.</p>\n",
    "<p>The purpose of this document is to illustrate the counting of specific words in the collection of text files that will be referred to from now on as the <b><span style=\"cursor:help;\" title=\"a large and structured set of texts\">corpus</b></span>. Terms that may be unfamiliar to the reader are highlighted in <b><span style=\"cursor:help;\" title=\"hover the mouse over the word to read the definition\">bold</span></b>, and contain a definition that can be accessed by hovering the mouse pointer over the word. While it is not necessary to read every line of code to understand the process, explanatory sections within the code are marked with a # and coloured light blue."
   ]
  },
  {
   "cell_type": "markdown",
   "metadata": {},
   "source": [
    "### Part 1: Determining the word frequency for a single file"
   ]
  },
  {
   "cell_type": "markdown",
   "metadata": {},
   "source": [
    "Before we can begin working with a piece of text, it must be loaded into and read by <i>Python</i>. Rather than altering (and potentially irreversibly changing) our original text file, we will work with the contents of the file as a <b><span style=\"cursor:help;\" title=\"any finite sequence of characters (i.e., letters, numerals, symbols and punctuation marks)\">string</span></b> of text contained within a <b><span style=\"cursor:help;\" title=\"a value that can change, depending on conditions or on information passed to the program\">variable</span></b>. Now we can close our original text file, keeping it intact.\n",
    "\n",
    "In the next piece of code we will open the file that contains the textual transcripts of all of the Parliamentary debates that occured in the House of Commons during the 39th sitting of Parliament.\n",
    "\n",
    "While working with one long string may be useful for other applications, our purposes require that we split the text into pieces. In this case, each word will become it's own unique string."
   ]
  },
  {
   "cell_type": "code",
   "execution_count": 21,
   "metadata": {
    "collapsed": false
   },
   "outputs": [],
   "source": [
    "# 1. open the text file\n",
    "infile = open(\"../scrapy/result11.json\")\n",
    "# 2. read the file and assign it to the variable 'text'\n",
    "text = infile.read()\n",
    "# 3. close the text file\n",
    "infile.close()\n",
    "# 4. split the variable 'text' into distinct word strings\n",
    "words1 = text.split()"
   ]
  },
  {
   "cell_type": "code",
   "execution_count": 22,
   "metadata": {
    "collapsed": false
   },
   "outputs": [
    {
     "name": "stdout",
     "output_type": "stream",
     "text": [
      "['[', '{\"file\":', '[\"DB97-477\",', '[{\"content\":', '[{\"text\":', '\"ARCHIVED\\\\u00a0-\\\\u00a0', '\\\\r\\\\nDecision', 'CRTC', '97-477', 'Decision', 'Ottawa,', '21', 'August', '1997', 'Decision', 'CRTC', '97-477', 'Central', 'Okanagan', 'Re-Broadcast', 'Society', 'Winfield,', 'British', 'Columbia', '-', '199613310', 'Licence', 'renewal', '1.', 'Following', 'Public', 'Notice', 'CRTC', '1997-65', 'dated', '26', 'May', '1997,', 'the', 'Commission', 'renews', 'the', 'broadcasting', 'licence', 'for', 'the', 'radiocommunication', 'distribution', 'undertaking', 'serving', 'Winfield', 'from', '1', 'September', '1997', 'to', '31', 'August', '2004,', 'subject', 'to', 'the', 'conditions', 'in', 'effect', 'under', 'the', 'current', 'licence,', 'as', 'well', 'as', 'to', 'those', 'conditions', 'specified', 'in', 'the', 'licence', 'to', 'be', 'issued.', '2.', 'The', 'Commission', 'notes', 'that', 'this', 'undertaking', 'distributes,', 'in', 'non-encrypted', 'mode,', 'the', 'programming', 'services', 'of', 'The', 'Open', 'Learning', 'Agency', '(Knowledge', 'Network),', 'on', 'channel', '34,', 'with', 'a', 'transmitter', 'power', 'of', '100', 'watts,', 'and', 'CBU-FM', 'Vancouver,', 'on', 'the', 'frequency', '91.9', 'MHz,', 'channel', '227,', 'with', 'an', 'effective', 'radiated', 'power', 'of', '25', 'watts.', 'This', 'decision', 'is', 'to', 'be', 'appended', 'to', 'the', 'licence', '.', 'Laura', 'M.', 'Talbot-Allan', 'Secretary', 'General', 'This', 'document', 'is', 'available', 'in', 'alternative', 'format', 'upon', 'request', '.', 'Date', 'modified:', '????-??-??\"}],', '\"metadata\":', '[{\"subject\":', '[\"Broadcasting\"],', '\"dateIssued\":', '[\"2007-09-20\"],', '\"title\":', '[\"ARCHIVED', '-', 'Central', 'Okanagan', 'Re-Broadcast', 'Society', '-', 'Licence', 'renewal\"],', '\"docType\":', '[\"Decisions\"],', '\"keywords\":', '[\"Broadcasting\"],', '\"date\":', '[\"1997-08-21\"],', '\"dateCreated\":', '[],', '\"dateMod\":', '[]}]}]]},', '{\"file\":', '[\"2017-73\",', '[{\"content\":', '[{\"text\":', '\"Telecom', 'Order', 'CRTC', '2017-73', 'PDF', 'version', 'Ottawa,', '15', 'March', '2017', 'Various', 'companies', '\\\\u2013', 'Interim', 'approval', 'of', 'tariff', 'applications', 'The', 'Commission', 'approves', 'on', 'an', 'interim', 'basis', 'the', 'following', 'tariff', 'applications:', 'Applicant', 'Tariff', 'Notice', 'and', 'description', 'Date', 'of', 'application', 'Effective', 'date', 'Bell', 'Canada', 'TN', '7527', 'Special', 'Facilities', 'Tariff', '\\\\u2013', 'Amendment', 'to', '56-Kbps', 'Data', 'Channel', 'Service', 'in', 'Kuujjuaraapik,', 'Quebec', '2', 'March', '2017', '17', 'March', '2017', 'Coop\\\\u00e9rative', 'Antenne', 'T.V.', 'St-Zacharie', 'TN', '1', 'TN', '1A', 'TN', '1B', 'Introduction', 'of', 'Competitive', 'Local', 'Exchange', 'Carrier', '(CLEC)', 'Tariff', '1', 'February', '2017', '7', 'February', '2017', '6', 'March', '2017', '15', 'March', '2017', 'Revised', 'tariff', 'pages', 'are', 'to', 'be', 'issued', 'within', '10', 'calendar', 'days', 'of', 'the', 'date', 'of', 'this', 'order.', 'Revised', 'tariff', 'pages', 'can', 'be', 'submitted', 'to', 'the', 'Commission', 'without', 'a', 'description', 'page', 'or', 'a', 'request', 'for', 'approval;', 'a', 'tariff', 'application', 'is', 'not', 'required.', 'Secretary', 'General', 'Date', 'modified:', '2017-03-15\"}],', '\"metadata\":', '[{\"subject\":', '[\"Telecommunications,', 'Bell', 'Canada,', 'Coop\\\\u00e9rative', 'Antenne', 'T.V.', 'St-Zacharie,', 'Interim', 'approval,', 'Tariff', 'applications\"],', '\"dateIssued\":', '[\"2017-03-15\"],', '\"title\":', '[\"Various', 'companies', '\\\\u2013', 'Interim', 'approval', 'of', 'tariff', 'applications\"],', '\"docType\":', '[\"Orders\"],', '\"keywords\":', '[\"Telecommunications,', 'Bell', 'Canada,', 'Coop\\\\u00e9rative', 'Antenne', 'T.V.', 'St-Zacharie,', 'Interim', 'approval,', 'Tariff', 'applications\"],', '\"date\":', '[],', '\"dateCreated\":', '[],', '\"dateMod\":', '[\"2017-03-15\"]}]}]]},', '{\"file\":', '[\"PT2001-99\",', '[{\"content\":', '[{\"text\":', '\"ARCHIVED', '-', 'Public', 'Notice', 'CRTC', '2001-99', 'Public', 'Notice', 'CRTC', '2001-99', 'Ottawa,', '31', 'August', '2001', 'Terms', 'and', 'conditions', 'of', 'existing', 'agreements', 'for', 'access', 'to', 'municipal', 'property', 'Reference:', '8690-A4-01/01', 'In', 'this', 'Public', 'Notice,', 'the', 'Commission', 'initiates', 'a', 'proceeding', 'to', 'consider', 'the', 'circumstances,', 'if', 'any,', 'where', 'the', 'Commission', 'could', 'alter', 'the', 'terms', 'and', 'conditions', 'of', 'an', 'existing', 'property-access', 'contract', 'between', 'a', 'carrier', 'and', 'a', 'municipality.', 'Background', '1.', 'On', '28', 'May', '2001,', 'AT&T', 'Canada', 'Corp.', 'on', 'behalf', 'of', 'itself', 'and', 'AT&T', 'Canada', 'Telecom', 'Services', 'Company', '(AT&T', 'Canada)', 'filed', 'a', 'Part', 'VII', 'application', 'requesting', 'relief', 'pursuant', 'to', 'sections', '32(d)', 'and', '(e)', 'and', '43(4)', 'of', 'the', 'Telecommunications', 'Act', '(the', 'Act),', 'naming', 'the', 'City', 'of', 'Toronto', '(the', 'City)', 'as', 'respondent.', 'AT&T', 'Canada', 'stated', 'that', 'it', 'wanted', 'the', 'Commission', 'to', 'substitute', 'for', 'those', 'terms', 'and', 'conditions', 'of', 'its', 'current', 'access', 'agreement', 'with', 'the', 'City', 'that', 'are', 'inconsistent', 'with', 'the', 'principles', 'set', 'out', 'in', 'Decision', 'CRTC', '2001-23', ',', 'Ledcor/Vancouver', '-', 'Construction,', 'operation', 'and', 'maintenance', 'of', 'transmission', 'lines', 'in', 'Vancouver,', 'dated', '25', 'January', '2001,', 'the', 'terms', 'and', 'conditions', 'that', 'are', 'based', 'on', 'the', 'principles', 'set', 'out', 'in', 'that', 'decision.', '2.', 'On', '27', 'June', '2001,', 'the', 'City', 'filed', 'its', 'response', 'to', 'AT&T', \"Canada's\", 'application.', 'The', 'City', 'argued', 'that', 'the', 'principles', 'developed', 'in', 'Decision', '2001-23', 'were', 'not', 'applicable', 'in', 'the', 'unique', 'factual', 'circumstances', 'of', 'the', 'contractual', 'situation', 'between', 'itself', 'and', 'AT&T', 'Canada.', 'Further,', 'the', 'City', 'argued', 'that', 'the', 'Commission', 'lacked', 'jurisdiction', 'under', 'the', 'Act', 'to', 'interfere', 'with', 'an', 'existing', 'agreement', 'for', 'access', 'to', 'municipal', 'property', 'like', 'the', 'agreement', 'between', 'itself', 'and', 'AT&T', 'Canada.', 'Scope', 'of', 'proceeding', '3.', 'In', 'this', 'proceeding,', 'the', 'Commission', 'will', 'consider,', 'given', 'the', 'framework', 'set', 'out', 'in', 'sections', '43(1)', 'to', '43(4)', 'and', 'any', 'other', 'relevant', 'provisions', 'of', 'the', 'Act,', 'and', 'the', 'principles', 'laid', 'out', 'in', 'Decision', '2001-23', ',', 'what', 'circumstances,', 'if', 'any,', 'would', 'justify', 'an', 'intervention', 'by', 'the', 'Commission', 'to', 'alter', 'the', 'terms', 'of', 'an', 'existing', 'contract', 'between', 'a', 'carrier', 'and', 'a', 'municipality', 'for', 'access', 'to', 'municipal', 'rights-of-way.', 'Procedure', '4.', 'The', 'contract', 'filed', 'in', 'the', 'Part', 'VII', 'application', 'as', 'Appendix', '\\\\\"A\\\\\"', 'to', 'AT&T', \"Canada's\", 'application', 'is', 'made', 'part', 'of', 'the', 'record', 'in', 'this', 'proceeding.', '5.', 'AT&T', 'Canada', 'and', 'the', 'City', 'are', 'made', 'parties', 'to', 'this', 'proceeding.', '6.', 'Other', 'parties', 'wishing', 'to', 'participate', 'in', 'this', 'proceeding', 'must', 'notify', 'the', 'Commission', 'of', 'their', 'intention', 'to', 'do', 'so', 'by', '1', 'October', '2001.', 'These', 'parties', 'should', 'contact', 'the', 'Secretary', 'General,', 'by', 'mail', 'at', 'CRTC,', 'Ottawa,', 'Ontario,', 'K1A', '0N2;', 'by', 'fax', 'at', '(819)', '953-0795;', 'or', 'by', 'email', 'at', 'procedure@crtc.gc.ca.', 'They', 'are', 'to', 'indicate', 'in', 'the', 'notice', 'their', 'email', 'address,', 'where', 'available.', 'If', 'parties', 'do', 'not', 'have', 'access', 'to', 'the', 'Internet,', 'they', 'are', 'to', 'indicate', 'in', 'their', 'notice', 'whether', 'they', 'wish', 'to', 'receive', 'disk', 'versions', 'of', 'hard', 'copy', 'filings.', '7.', 'The', 'Commission', 'will', 'issue,', 'as', 'soon', 'as', 'possible', 'after', 'the', 'registration', 'date,', 'a', 'complete', 'list', 'of', 'interested', 'parties', 'and', 'their', 'mailing', 'addresses', '(including', 'their', 'email', 'address,', 'if', 'available),', 'identifying', 'those', 'parties', 'who', 'wish', 'to', 'receive', 'disk', 'versions.', '8.', 'All', 'parties', 'may', 'submit', 'comments', 'on', 'the', 'circumstances,', 'if', 'any,', 'for', 'Commission', 'intervention,', 'serving', 'a', 'copy', 'of', 'their', 'submission', 'on', 'all', 'the', 'parties', 'on', 'the', 'interested', 'parties', 'list,', 'by', '29', 'October', '2001.', 'Submissions', 'longer', 'than', 'five', 'pages', 'should', 'include', 'a', 'summary.', 'In', 'order', 'to', 'streamline', 'the', 'process', 'and', 'reduce', 'the', 'workload', 'for', 'all', 'concerned,', 'the', 'Commission', 'encourages', 'parties', 'with', 'similar', 'interests', 'to', 'file', 'joint', 'submissions', 'and', 'to', 'participate', 'jointly', 'in', 'subsequent', 'stages', 'of', 'the', 'proceeding.', '9.', 'Parties', 'may', 'file', 'reply', 'comments', 'with', 'the', 'Commission,', 'serving', 'a', 'copy', 'on', 'those', 'parties', 'who', 'filed', 'comments,', 'by', '28', 'November', '2001.', 'Submissions', 'longer', 'than', 'five', 'pages', 'should', 'include', 'a', 'summary.', '10.', 'Where', 'a', 'document', 'is', 'to', 'be', 'filed', 'or', 'served', 'by', 'a', 'specific', 'date,', 'the', 'document', 'must', 'be', 'actually', 'received,', 'and', 'not', 'merely', 'sent,', 'by', 'that', 'date.', '11.', 'Parties', 'wishing', 'to', 'file', 'electronic', 'versions', 'of', 'their', 'comments', 'can', 'do', 'so', 'by', 'email', 'at', 'the', 'address', 'shown', 'above,', 'or', 'on', 'diskette.', '12.', 'The', 'electronic', 'version', 'should', 'be', 'in', 'the', 'HTML', 'format.', 'As', 'an', 'alternative,', 'those', 'submitting', 'comments', 'may', 'use', '\\\\\"Microsoft', 'Word\\\\\"', 'for', 'text', 'and', '\\\\\"Microsoft', 'Excel\\\\\"', 'for', 'spreadsheets.', '13.', 'Please', 'number', 'each', 'paragraph', 'of', 'your', 'submission.', 'In', 'addition,', 'please', 'enter', 'the', 'line', '***End', 'of', 'document***', 'following', 'the', 'last', 'paragraph.', 'This', 'will', 'help', 'the', 'Commission', 'verify', 'that', 'the', 'document', 'has', 'not', 'been', 'damaged', 'during', 'transmission.', '14.', 'The', 'Commission', 'will', 'make', 'submissions', 'filed', 'in', 'electronic', 'form', 'available', 'on', 'its', 'web', 'site', 'at', 'www.crtc.gc.ca', 'in', 'the', 'official', 'language', 'and', 'format', 'in', 'which', 'they', 'are', 'submitted.', 'This', 'will', 'make', 'it', 'easier', 'for', 'members', 'of', 'the', 'public', 'to', 'consult', 'the', 'documents.', '15.', 'The', 'Commission', 'also', 'encourages', 'interested', 'parties', 'to', 'monitor', 'the', 'public', 'examination', 'file', '(and/or', 'the', \"Commission's\", 'web', 'site)', 'for', 'additional', 'information', 'that', 'they', 'may', 'find', 'useful', 'when', 'preparing', 'their', 'submission.', '16.', 'Submissions', 'may', 'be', 'examined', 'or', 'will', 'be', 'made', 'available', 'promptly', 'upon', 'request', 'at', 'the', 'Commission', 'offices', 'during', 'normal', 'business', 'hours:', 'Central', 'Building', 'Les', 'Terasses', 'de', 'la', 'Chaudi\\\\u00e8re', '1', 'Promenade', 'du', 'Portage,', 'Room', 'G-5', 'Hull,', 'Quebec', 'K1A', '0N2', 'Tel:', '(819)', '997-2429', '-', 'TDD:', '994-0423', 'Fax:', '(819)', '994-0218', 'Bank', 'of', 'Commerce', 'Building', '1809', 'Barrington', 'Street', 'Suite', '1007', 'Halifax,', 'Nova', 'Scotia', 'B3J', '3K8', 'Tel:', '(902)', '426-7997', '-', 'TDD:', '426-6997', 'Fax:', '(902)', '426-2721', '405', 'de', 'Maisonneuve', 'Blvd.', 'East', '2', 'nd', 'Floor,', 'Suite', 'B2300', 'Montr\\\\u00e9al,', 'Quebec', 'H2L', '4J5', 'Tel:', '(514)', '283-6607', '-', 'TDD:', '283-8316', 'Fax:', '(514)', '283-3689', '55', 'St.', 'Clair', 'Avenue', 'East', 'Suite', '624', 'Toronto,', 'Ontario', 'M4T', '1M2', 'Tel:', '(416)', '952-9096', 'Fax:', '(416)', '954-6343', 'Kensington', 'Building', '275', 'Portage', 'Avenue', 'Suite', '1810', 'Winnipeg,', 'Manitoba', 'R3B', '2B3', 'Tel:', '(204)', '983-6306', '-', 'TDD:983-8274', 'Fax:', '(204)', '983-6317', 'Cornwall', 'Professional', 'Building', '2125', '-', '11', 'th', 'Avenue', 'Room', '103', 'Regina,', 'Saskatchewan', 'S4P', '3X3', 'Tel:', '(306)', '780-3422', 'Fax:', '(306)', '780-3319', '10405', 'Jasper', 'Avenue', 'Suite', '520', 'Edmonton,', 'Alberta', 'T5J', '3N4', 'Tel:', '(780)', '495-3224', 'Fax:', '(780)', '495-3214', '530-580', 'Hornby', 'Street', 'Vancouver,', 'British', 'Columbia', 'V6C', '3B6', 'Tel:', '(604)', '666-2111', '-', 'TDD:666-0778', 'Fax:', '(604)', '666-8322', 'Secretary', 'General', 'This', 'document', 'is', 'available', 'in', 'alternative', 'format', 'upon', 'request,', 'and', 'may', 'also', 'be', 'examined', 'at', 'the', 'following', 'Internet', 'site:', 'http://www.crtc.gc.ca', 'Date', 'Modified:', '2001-08-31', 'Date', 'modified:', '2001-08-31\"}],', '\"metadata\":', '[{\"subject\":', '[\"Telecommunications,', 'Agreements,', 'Property,', 'Municipal', 'governments,', 'AT&amp;T', 'Canada,', 'City', 'of', 'Toronto,', 'Access', 'arrangements\"],', '\"dateIssued\":', '[],', '\"title\":', '[\"ARCHIVED', '-', 'Terms', 'and', 'conditions', 'of', 'existing', 'agreements', 'for', 'access', 'to', 'municipal', 'property\"],', '\"docType\":', '[\"Notices', 'of', 'consultation\"],', '\"keywords\":', '[\"Telecommunications,', 'Agreements,', 'Property,', 'Municipal', 'governments,', 'AT&amp;T', 'Canada,', 'City', 'of', 'Toronto,', 'Access', 'arrangements\",', '\"Telecommunications,', 'Agreements,', 'Property,', 'Municipal', 'governments,', 'AT&amp;T', 'Canada,', 'City', 'of', 'Toronto,', 'Access', 'arrangements\"],', '\"date\":', '[],', '\"dateCreated\":', '[\"2001-08-31\"],', '\"dateMod\":', '[]}]}]]}', ']']\n"
     ]
    }
   ],
   "source": [
    "print(words1)"
   ]
  },
  {
   "cell_type": "markdown",
   "metadata": {},
   "source": [
    "Now that we have loaded our file, we can begin to work on it. <i>Python</i> offers us a lot of pre-built tools to make the task of coding easier. Some of the most commonly used tools are known as <b><span style=\"cursor:help;\" title=\"a set of instructions that performs a specific task\">functions</span></b>. Functions are useful for automating tasks that would otherwise require a repetitive amount of coding. While <i>Python</i> has many built-in functions, the language's true power comes from the ability to define unique functions based on programming needs. In the code above, we've already used four <i>Python</i> functions: <code>open</code>, <code>read</code>, <code>close</code>, and <code>split</code>.</p>\n",
    "<p>In the next piece of code we will define our own funtion, called <code>count_in_list</code>. This function will allow us to count the occurence of any word in the corpus."
   ]
  },
  {
   "cell_type": "code",
   "execution_count": 2,
   "metadata": {
    "collapsed": true
   },
   "outputs": [],
   "source": [
    "# 5. define the'count_in_list' function\n",
    "def count_in_list(item_to_count, list_to_search):\n",
    "    \"Counts the number of a specified word within a list of words\"\n",
    "    number_of_hits = 0\n",
    "    for item in list_to_search:\n",
    "        if item == item_to_count:\n",
    "            number_of_hits += 1\n",
    "    return number_of_hits"
   ]
  },
  {
   "cell_type": "markdown",
   "metadata": {},
   "source": [
    "Now we can call the function for any word we choose. The next example shows that there are <u>392</u> occurences of the word <code>privacy</code> contained in the transcripts for the 39th sitting of Parliament."
   ]
  },
  {
   "cell_type": "code",
   "execution_count": 25,
   "metadata": {
    "collapsed": false
   },
   "outputs": [
    {
     "name": "stdout",
     "output_type": "stream",
     "text": [
      "Instances of the word 'privacy': 1\n"
     ]
    }
   ],
   "source": [
    "# 6. here the function counts the instances of the word 'privacy'\n",
    "print(\"Instances of the word \\'privacy\\':\", (count_in_list(\"Edmonton,\", words1)))"
   ]
  },
  {
   "cell_type": "markdown",
   "metadata": {},
   "source": [
    "Unfortunately, there are two distinct problems here, centred around the fact that our function is only counting the string <code>privacy</code> exactly as it appears.</p>\n",
    "<p>The first problem is that text strings are case-sensitive. If the word contains UPPERCASE and lowercase letters, the word that is searched for will only be counted if the cases match exactly. The following example counts the number of instances of <code>Privacy</code> with the first letter capitalized."
   ]
  },
  {
   "cell_type": "code",
   "execution_count": 5,
   "metadata": {
    "collapsed": false
   },
   "outputs": [
    {
     "name": "stdout",
     "output_type": "stream",
     "text": [
      "Instances of the word 'Privacy': 0\n"
     ]
    }
   ],
   "source": [
    "print(\"Instances of the word \\'Privacy\\':\", (count_in_list(\"Privacy\", words)))"
   ]
  },
  {
   "cell_type": "markdown",
   "metadata": {},
   "source": [
    "Here is a more extreme example to illustrate the point."
   ]
  },
  {
   "cell_type": "code",
   "execution_count": 5,
   "metadata": {
    "collapsed": false
   },
   "outputs": [
    {
     "name": "stdout",
     "output_type": "stream",
     "text": [
      "Instances of the word 'pRiVaCy': 0\n"
     ]
    }
   ],
   "source": [
    "print \"Instances of the word \\'pRiVaCy\\':\",(count_in_list(\"pRiVaCy\", words))"
   ]
  },
  {
   "cell_type": "markdown",
   "metadata": {},
   "source": [
    "The second problem is that of punctuation. Much like words are case-sensitive, they are also punctuation-sensitive. If a piece of punctuation has been included in the string, it will be included in the search. Here we count the occurrences of <code>privacy,</code> shown here with a comma after the word."
   ]
  },
  {
   "cell_type": "code",
   "execution_count": 6,
   "metadata": {
    "collapsed": false
   },
   "outputs": [
    {
     "name": "stdout",
     "output_type": "stream",
     "text": [
      "Instances of the word 'privacy,': 41\n"
     ]
    }
   ],
   "source": [
    "print \"Instances of the word \\'privacy,\\':\", (count_in_list(\"privacy,\", words))"
   ]
  },
  {
   "cell_type": "markdown",
   "metadata": {},
   "source": [
    "And here we count <code>privacy.</code>, with the word followed by a period."
   ]
  },
  {
   "cell_type": "code",
   "execution_count": 7,
   "metadata": {
    "collapsed": false
   },
   "outputs": [
    {
     "name": "stdout",
     "output_type": "stream",
     "text": [
      "Instances of the word 'privacy.': 65\n"
     ]
    }
   ],
   "source": [
    "print \"Instances of the word \\'privacy.\\':\",(count_in_list(\"privacy.\", words))"
   ]
  },
  {
   "cell_type": "markdown",
   "metadata": {},
   "source": [
    "We could comb through the text to find all of the different instantiations of <code>privacy</code>, and then run the code for each one and add together all of the numbers, but that would be time consuming and potentially inaccurate. Instead, we must process the text further to make the text uniform. In this case we want to make all of the characters lowercase, and remove all of the punctuation.</p>\n",
    "<p><i>Python</i> has a function that will do this for us."
   ]
  },
  {
   "cell_type": "markdown",
   "metadata": {},
   "source": [
    "We will reload the text file, split the text into distinct words or <b><span style=\"cursor:help;\" title=\"an individual occurence of a symbol or string\">tokens</span></b> and then use the the text cleaning function."
   ]
  },
  {
   "cell_type": "code",
   "execution_count": 6,
   "metadata": {
    "collapsed": false
   },
   "outputs": [],
   "source": [
    "infile = open(\"../scrapy/result11.json\")\n",
    "text = infile.read()\n",
    "infile.close()\n",
    "tokens = text.split()\n",
    "\n",
    "#here we call the text cleaning function\n",
    "words = [w.lower() for w in tokens if w.isalpha()]"
   ]
  },
  {
   "cell_type": "code",
   "execution_count": 20,
   "metadata": {
    "collapsed": false
   },
   "outputs": [
    {
     "name": "stdout",
     "output_type": "stream",
     "text": [
      "['crtc', 'decision', 'august', 'decision', 'crtc', 'central', 'okanagan', 'society', 'british', 'columbia', 'licence', 'renewal', 'following', 'public', 'notice', 'crtc', 'dated', 'may', 'the', 'commission', 'renews', 'the', 'broadcasting', 'licence', 'for', 'the', 'radiocommunication', 'distribution', 'undertaking', 'serving', 'winfield', 'from', 'september', 'to', 'august', 'subject', 'to', 'the', 'conditions', 'in', 'effect', 'under', 'the', 'current', 'as', 'well', 'as', 'to', 'those', 'conditions', 'specified', 'in', 'the', 'licence', 'to', 'be', 'the', 'commission', 'notes', 'that', 'this', 'undertaking', 'in', 'the', 'programming', 'services', 'of', 'the', 'open', 'learning', 'agency', 'on', 'channel', 'with', 'a', 'transmitter', 'power', 'of', 'and', 'on', 'the', 'frequency', 'channel', 'with', 'an', 'effective', 'radiated', 'power', 'of', 'this', 'decision', 'is', 'to', 'be', 'appended', 'to', 'the', 'licence', 'laura', 'secretary', 'general', 'this', 'document', 'is', 'available', 'in', 'alternative', 'format', 'upon', 'request', 'date', 'central', 'okanagan', 'society', 'licence', 'order', 'crtc', 'pdf', 'version', 'march', 'various', 'companies', 'interim', 'approval', 'of', 'tariff', 'applications', 'the', 'commission', 'approves', 'on', 'an', 'interim', 'basis', 'the', 'following', 'tariff', 'applicant', 'tariff', 'notice', 'and', 'description', 'date', 'of', 'application', 'effective', 'date', 'bell', 'canada', 'tn', 'special', 'facilities', 'tariff', 'amendment', 'to', 'data', 'channel', 'service', 'in', 'quebec', 'march', 'march', 'antenne', 'tn', 'tn', 'tn', 'introduction', 'of', 'competitive', 'local', 'exchange', 'carrier', 'tariff', 'february', 'february', 'march', 'march', 'revised', 'tariff', 'pages', 'are', 'to', 'be', 'issued', 'within', 'calendar', 'days', 'of', 'the', 'date', 'of', 'this', 'revised', 'tariff', 'pages', 'can', 'be', 'submitted', 'to', 'the', 'commission', 'without', 'a', 'description', 'page', 'or', 'a', 'request', 'for', 'a', 'tariff', 'application', 'is', 'not', 'secretary', 'general', 'date', 'bell', 'antenne', 'interim', 'tariff', 'companies', 'interim', 'approval', 'of', 'tariff', 'bell', 'antenne', 'interim', 'tariff', 'public', 'notice', 'crtc', 'public', 'notice', 'crtc', 'august', 'terms', 'and', 'conditions', 'of', 'existing', 'agreements', 'for', 'access', 'to', 'municipal', 'property', 'in', 'this', 'public', 'the', 'commission', 'initiates', 'a', 'proceeding', 'to', 'consider', 'the', 'if', 'where', 'the', 'commission', 'could', 'alter', 'the', 'terms', 'and', 'conditions', 'of', 'an', 'existing', 'contract', 'between', 'a', 'carrier', 'and', 'a', 'background', 'on', 'may', 'canada', 'on', 'behalf', 'of', 'itself', 'and', 'canada', 'telecom', 'services', 'company', 'filed', 'a', 'part', 'vii', 'application', 'requesting', 'relief', 'pursuant', 'to', 'sections', 'and', 'and', 'of', 'the', 'telecommunications', 'act', 'naming', 'the', 'city', 'of', 'toronto', 'as', 'canada', 'stated', 'that', 'it', 'wanted', 'the', 'commission', 'to', 'substitute', 'for', 'those', 'terms', 'and', 'conditions', 'of', 'its', 'current', 'access', 'agreement', 'with', 'the', 'city', 'that', 'are', 'inconsistent', 'with', 'the', 'principles', 'set', 'out', 'in', 'decision', 'crtc', 'operation', 'and', 'maintenance', 'of', 'transmission', 'lines', 'in', 'dated', 'january', 'the', 'terms', 'and', 'conditions', 'that', 'are', 'based', 'on', 'the', 'principles', 'set', 'out', 'in', 'that', 'on', 'june', 'the', 'city', 'filed', 'its', 'response', 'to', 'the', 'city', 'argued', 'that', 'the', 'principles', 'developed', 'in', 'decision', 'were', 'not', 'applicable', 'in', 'the', 'unique', 'factual', 'circumstances', 'of', 'the', 'contractual', 'situation', 'between', 'itself', 'and', 'the', 'city', 'argued', 'that', 'the', 'commission', 'lacked', 'jurisdiction', 'under', 'the', 'act', 'to', 'interfere', 'with', 'an', 'existing', 'agreement', 'for', 'access', 'to', 'municipal', 'property', 'like', 'the', 'agreement', 'between', 'itself', 'and', 'scope', 'of', 'proceeding', 'in', 'this', 'the', 'commission', 'will', 'given', 'the', 'framework', 'set', 'out', 'in', 'sections', 'to', 'and', 'any', 'other', 'relevant', 'provisions', 'of', 'the', 'and', 'the', 'principles', 'laid', 'out', 'in', 'decision', 'what', 'if', 'would', 'justify', 'an', 'intervention', 'by', 'the', 'commission', 'to', 'alter', 'the', 'terms', 'of', 'an', 'existing', 'contract', 'between', 'a', 'carrier', 'and', 'a', 'municipality', 'for', 'access', 'to', 'municipal', 'procedure', 'the', 'contract', 'filed', 'in', 'the', 'part', 'vii', 'application', 'as', 'appendix', 'to', 'application', 'is', 'made', 'part', 'of', 'the', 'record', 'in', 'this', 'canada', 'and', 'the', 'city', 'are', 'made', 'parties', 'to', 'this', 'other', 'parties', 'wishing', 'to', 'participate', 'in', 'this', 'proceeding', 'must', 'notify', 'the', 'commission', 'of', 'their', 'intention', 'to', 'do', 'so', 'by', 'october', 'these', 'parties', 'should', 'contact', 'the', 'secretary', 'by', 'mail', 'at', 'by', 'fax', 'at', 'or', 'by', 'email', 'at', 'they', 'are', 'to', 'indicate', 'in', 'the', 'notice', 'their', 'email', 'where', 'if', 'parties', 'do', 'not', 'have', 'access', 'to', 'the', 'they', 'are', 'to', 'indicate', 'in', 'their', 'notice', 'whether', 'they', 'wish', 'to', 'receive', 'disk', 'versions', 'of', 'hard', 'copy', 'the', 'commission', 'will', 'as', 'soon', 'as', 'possible', 'after', 'the', 'registration', 'a', 'complete', 'list', 'of', 'interested', 'parties', 'and', 'their', 'mailing', 'addresses', 'their', 'email', 'if', 'identifying', 'those', 'parties', 'who', 'wish', 'to', 'receive', 'disk', 'all', 'parties', 'may', 'submit', 'comments', 'on', 'the', 'if', 'for', 'commission', 'serving', 'a', 'copy', 'of', 'their', 'submission', 'on', 'all', 'the', 'parties', 'on', 'the', 'interested', 'parties', 'by', 'october', 'submissions', 'longer', 'than', 'five', 'pages', 'should', 'include', 'a', 'in', 'order', 'to', 'streamline', 'the', 'process', 'and', 'reduce', 'the', 'workload', 'for', 'all', 'the', 'commission', 'encourages', 'parties', 'with', 'similar', 'interests', 'to', 'file', 'joint', 'submissions', 'and', 'to', 'participate', 'jointly', 'in', 'subsequent', 'stages', 'of', 'the', 'parties', 'may', 'file', 'reply', 'comments', 'with', 'the', 'serving', 'a', 'copy', 'on', 'those', 'parties', 'who', 'filed', 'by', 'november', 'submissions', 'longer', 'than', 'five', 'pages', 'should', 'include', 'a', 'where', 'a', 'document', 'is', 'to', 'be', 'filed', 'or', 'served', 'by', 'a', 'specific', 'the', 'document', 'must', 'be', 'actually', 'and', 'not', 'merely', 'by', 'that', 'parties', 'wishing', 'to', 'file', 'electronic', 'versions', 'of', 'their', 'comments', 'can', 'do', 'so', 'by', 'email', 'at', 'the', 'address', 'shown', 'or', 'on', 'the', 'electronic', 'version', 'should', 'be', 'in', 'the', 'html', 'as', 'an', 'those', 'submitting', 'comments', 'may', 'use', 'for', 'text', 'and', 'for', 'please', 'number', 'each', 'paragraph', 'of', 'your', 'in', 'please', 'enter', 'the', 'line', 'of', 'following', 'the', 'last', 'this', 'will', 'help', 'the', 'commission', 'verify', 'that', 'the', 'document', 'has', 'not', 'been', 'damaged', 'during', 'the', 'commission', 'will', 'make', 'submissions', 'filed', 'in', 'electronic', 'form', 'available', 'on', 'its', 'web', 'site', 'at', 'in', 'the', 'official', 'language', 'and', 'format', 'in', 'which', 'they', 'are', 'this', 'will', 'make', 'it', 'easier', 'for', 'members', 'of', 'the', 'public', 'to', 'consult', 'the', 'the', 'commission', 'also', 'encourages', 'interested', 'parties', 'to', 'monitor', 'the', 'public', 'examination', 'file', 'the', 'web', 'for', 'additional', 'information', 'that', 'they', 'may', 'find', 'useful', 'when', 'preparing', 'their', 'submissions', 'may', 'be', 'examined', 'or', 'will', 'be', 'made', 'available', 'promptly', 'upon', 'request', 'at', 'the', 'commission', 'offices', 'during', 'normal', 'business', 'central', 'building', 'les', 'terasses', 'de', 'la', 'promenade', 'du', 'room', 'quebec', 'bank', 'of', 'commerce', 'building', 'barrington', 'street', 'suite', 'nova', 'scotia', 'de', 'maisonneuve', 'east', 'nd', 'suite', 'quebec', 'clair', 'avenue', 'east', 'suite', 'ontario', 'kensington', 'building', 'portage', 'avenue', 'suite', 'manitoba', 'cornwall', 'professional', 'building', 'th', 'avenue', 'room', 'saskatchewan', 'jasper', 'avenue', 'suite', 'alberta', 'hornby', 'street', 'british', 'columbia', 'secretary', 'general', 'this', 'document', 'is', 'available', 'in', 'alternative', 'format', 'upon', 'and', 'may', 'also', 'be', 'examined', 'at', 'the', 'following', 'internet', 'date', 'date', 'municipal', 'city', 'of', 'access', 'terms', 'and', 'conditions', 'of', 'existing', 'agreements', 'for', 'access', 'to', 'municipal', 'of', 'municipal', 'city', 'of', 'access', 'municipal', 'city', 'of', 'access']\n"
     ]
    }
   ],
   "source": [
    "print(words)"
   ]
  },
  {
   "cell_type": "markdown",
   "metadata": {},
   "source": [
    "Now, when we count the instances of <code>privacy</code>, we are presented with a total of <u>846</u> instances."
   ]
  },
  {
   "cell_type": "code",
   "execution_count": 26,
   "metadata": {
    "collapsed": false
   },
   "outputs": [
    {
     "name": "stdout",
     "output_type": "stream",
     "text": [
      "Instances of the word 'privacy': 0\n"
     ]
    }
   ],
   "source": [
    "print(\"Instances of the word \\'privacy\\':\", (count_in_list(\"edmonton\", words)))"
   ]
  },
  {
   "cell_type": "markdown",
   "metadata": {},
   "source": [
    "---------"
   ]
  },
  {
   "cell_type": "markdown",
   "metadata": {},
   "source": [
    "### Part 2: Determining Word Frequencies for the Entire Corpus"
   ]
  },
  {
   "cell_type": "markdown",
   "metadata": {},
   "source": [
    "Now let's see how this compares to the rest of the corpus. To accomplish this, we must write another function that will read all of the text files in our file folder.\n",
    "\n",
    "<p>First we need to introduce a function of <i>Python</i> that we've yet to see: modules. Modules are packages of functions and code that serve specific purposes. These are much like functions, but more complex.\n",
    "\n",
    "<p>The next piece of code imports a module called <code>os</code>, specifically the function <code>listdir</code>. We will use <code>listdir</code> to print a list of all the files in a specific directory. Each of the listed files corresponds to a textual transcript of Hansard. The first nine files refer to the complete transcript for each year from 2006 to 2014, while the last three files are the transcripts corresponding to each sitting of Parliament, in this case the 39th through to the end of the second sitting of the 41st Parliament."
   ]
  },
  {
   "cell_type": "code",
   "execution_count": 10,
   "metadata": {
    "collapsed": false
   },
   "outputs": [
    {
     "data": {
      "text/plain": [
       "['.DS_Store',\n",
       " '2006.txt',\n",
       " '2007.txt',\n",
       " '2008.txt',\n",
       " '2009.txt',\n",
       " '2010.txt',\n",
       " '2011.txt',\n",
       " '2012.txt',\n",
       " '2013.txt',\n",
       " '2014.txt',\n",
       " '2015.txt',\n",
       " '39.txt',\n",
       " '40.txt',\n",
       " '41.txt']"
      ]
     },
     "execution_count": 10,
     "metadata": {},
     "output_type": "execute_result"
    }
   ],
   "source": [
    "# imports the os module\n",
    "from os import listdir\n",
    "# calls the listdir function to list the files in a specific directory\n",
    "listdir(\"data\")"
   ]
  },
  {
   "cell_type": "markdown",
   "metadata": {},
   "source": [
    "Although we can display the contents of a directory by using the <code>listdir</code> function, <i>Python</i> needs those names stored in a list in order to iterate over it. We also want to specify that only files with the extension <code>.txt</code> are included. Here we create another function called <code>list_textfiles</code>."
   ]
  },
  {
   "cell_type": "code",
   "execution_count": 11,
   "metadata": {
    "collapsed": true
   },
   "outputs": [],
   "source": [
    "def list_textfiles(directory):\n",
    "    \"Return a list of filenames ending in '.txt'\"\n",
    "    textfiles = []\n",
    "    for filename in listdir(directory):\n",
    "        if filename.endswith(\".txt\"):\n",
    "            textfiles.append(directory + \"/\" + filename)\n",
    "    return textfiles"
   ]
  },
  {
   "cell_type": "markdown",
   "metadata": {},
   "source": [
    "Rather than writing code to open each file individually, we can create another custom function to open the file we pass to it. We'll call this one read_file."
   ]
  },
  {
   "cell_type": "code",
   "execution_count": 12,
   "metadata": {
    "collapsed": true
   },
   "outputs": [],
   "source": [
    "def read_file(filename):\n",
    "    \"Read the contents of FILENAME and return as a string.\"\n",
    "    infile = open(filename)\n",
    "    contents = infile.read()\n",
    "    infile.close()\n",
    "    return contents"
   ]
  },
  {
   "cell_type": "markdown",
   "metadata": {},
   "source": [
    "Now we can open all of the files in our directory, strip each file of uppercase letters and punctuation, split the whole of each text into tokens, and store all the data as separate lists in our variable <code>corpus</code>."
   ]
  },
  {
   "cell_type": "code",
   "execution_count": 13,
   "metadata": {
    "collapsed": true
   },
   "outputs": [],
   "source": [
    "corpus = []\n",
    "for filename in list_textfiles(\"data\"):\n",
    "    # reads the file\n",
    "    text = read_file(filename)\n",
    "    # splits the text into tokens\n",
    "    tokens = text.split()\n",
    "    # removes the punctuation and changes Uppercase to lower\n",
    "    words = [w.lower() for w in tokens if w.isalpha()]\n",
    "    # creates a set of word lists for each file\n",
    "    corpus.append(words)"
   ]
  },
  {
   "cell_type": "markdown",
   "metadata": {},
   "source": [
    "Let's check to make sure the code worked by using the <code>len</code> function to count the number of items in our <code>corpus</code> list."
   ]
  },
  {
   "cell_type": "code",
   "execution_count": 14,
   "metadata": {
    "collapsed": false
   },
   "outputs": [
    {
     "name": "stdout",
     "output_type": "stream",
     "text": [
      "There are 13 files in the list, named:  data/2006.txt, data/2007.txt, data/2008.txt, data/2009.txt, data/2010.txt, data/2011.txt, data/2012.txt, data/2013.txt, data/2014.txt, data/2015.txt, data/39.txt, data/40.txt, data/41.txt\n"
     ]
    }
   ],
   "source": [
    "print\"There are\", len(corpus), \"files in the list, named: \", ', '.join(list_textfiles('data'))"
   ]
  },
  {
   "cell_type": "markdown",
   "metadata": {},
   "source": [
    "Let's create a function to make the names of the files more readable. First we'll have to strip the the file extension <code>.txt</code>."
   ]
  },
  {
   "cell_type": "code",
   "execution_count": 15,
   "metadata": {
    "collapsed": true
   },
   "outputs": [],
   "source": [
    "from os.path import splitext\n",
    "\n",
    "def remove_ext(filename):\n",
    "    \"Removes the file extension, such as .txt\"\n",
    "    name, extension = splitext(filename)\n",
    "    return name\n",
    "\n",
    "for files in list_textfiles('data'):\n",
    "    remove_ext(files)"
   ]
  },
  {
   "cell_type": "markdown",
   "metadata": {},
   "source": [
    "Now let's make a function to remove the <code>data/</code>."
   ]
  },
  {
   "cell_type": "code",
   "execution_count": 16,
   "metadata": {
    "collapsed": true
   },
   "outputs": [],
   "source": [
    "from os.path import basename\n",
    "\n",
    "def remove_dir(filepath):\n",
    "    \"Removes the path from the file name\"\n",
    "    name = basename(filepath)\n",
    "    return name\n",
    "for files in list_textfiles('data'):\n",
    "    remove_dir(files)"
   ]
  },
  {
   "cell_type": "markdown",
   "metadata": {},
   "source": [
    "And finally, we'll write a function to tie the two functions together."
   ]
  },
  {
   "cell_type": "code",
   "execution_count": 17,
   "metadata": {
    "collapsed": true
   },
   "outputs": [],
   "source": [
    "def get_filename(filepath):\n",
    "    \"Removes the path and file extension from the file name\"\n",
    "    filename = remove_ext(filepath)\n",
    "    name = remove_dir(filename)\n",
    "    return name\n",
    "\n",
    "\n",
    "filenames = []\n",
    "for files in list_textfiles('data'):\n",
    "    files = get_filename(files)\n",
    "    filenames.append(files)"
   ]
  },
  {
   "cell_type": "markdown",
   "metadata": {},
   "source": [
    "Now we can display a readable list of the files within our directory."
   ]
  },
  {
   "cell_type": "code",
   "execution_count": 18,
   "metadata": {
    "collapsed": false
   },
   "outputs": [
    {
     "name": "stdout",
     "output_type": "stream",
     "text": [
      "There are 13 files in the list, named: 2006, 2007, 2008, 2009, 2010, 2011, 2012, 2013, 2014, 2015, 39, 40, 41 .\n"
     ]
    }
   ],
   "source": [
    "print\"There are\", len(corpus), \"files in the list, named:\", ', '.join(filenames),\".\""
   ]
  },
  {
   "cell_type": "markdown",
   "metadata": {},
   "source": [
    "The next step involves iterating through both lists: <code>corpus</code> and <code>filenames</code>, in order to generate a word frequency for each file in the corpus. For this we will use <i>Python's</i> <code>zip</code> function."
   ]
  },
  {
   "cell_type": "code",
   "execution_count": 19,
   "metadata": {
    "collapsed": false
   },
   "outputs": [
    {
     "name": "stdout",
     "output_type": "stream",
     "text": [
      "Instances of the word 'privacy' in 2006 : 356\n",
      "Instances of the word 'privacy' in 2007 : 258\n",
      "Instances of the word 'privacy' in 2008 : 252\n",
      "Instances of the word 'privacy' in 2009 : 612\n",
      "Instances of the word 'privacy' in 2010 : 533\n",
      "Instances of the word 'privacy' in 2011 : 624\n",
      "Instances of the word 'privacy' in 2012 : 552\n",
      "Instances of the word 'privacy' in 2013 : 918\n",
      "Instances of the word 'privacy' in 2014 : 1567\n",
      "Instances of the word 'privacy' in 2015 : 806\n",
      "Instances of the word 'privacy' in 39 : 846\n",
      "Instances of the word 'privacy' in 40 : 1643\n",
      "Instances of the word 'privacy' in 41 : 3989\n"
     ]
    }
   ],
   "source": [
    "for words, names in zip(corpus, filenames):\n",
    "    print\"Instances of the word \\'privacy\\' in\",names, \":\", count_in_list(\"privacy\", words)"
   ]
  },
  {
   "cell_type": "markdown",
   "metadata": {},
   "source": [
    "What's exciting about this code is that we can now search the entire corpus for any word we choose. Let's search for <code>information</code>."
   ]
  },
  {
   "cell_type": "code",
   "execution_count": 20,
   "metadata": {
    "collapsed": false
   },
   "outputs": [
    {
     "name": "stdout",
     "output_type": "stream",
     "text": [
      "Instances of the word 'information' in 2006 : 2724\n",
      "Instances of the word 'information' in 2007 : 2328\n",
      "Instances of the word 'information' in 2008 : 1610\n",
      "Instances of the word 'information' in 2009 : 3554\n",
      "Instances of the word 'information' in 2010 : 3913\n",
      "Instances of the word 'information' in 2011 : 3250\n",
      "Instances of the word 'information' in 2012 : 4137\n",
      "Instances of the word 'information' in 2013 : 3281\n",
      "Instances of the word 'information' in 2014 : 4999\n",
      "Instances of the word 'information' in 2015 : 2728\n",
      "Instances of the word 'information' in 39 : 6615\n",
      "Instances of the word 'information' in 40 : 9688\n",
      "Instances of the word 'information' in 41 : 16221\n"
     ]
    }
   ],
   "source": [
    "for words, names in zip(corpus, filenames):\n",
    "    print\"Instances of the word \\'information\\' in\",names, \":\", count_in_list(\"information\", words)"
   ]
  },
  {
   "cell_type": "markdown",
   "metadata": {},
   "source": [
    "How about <code>ethics</code>?"
   ]
  },
  {
   "cell_type": "code",
   "execution_count": 21,
   "metadata": {
    "collapsed": false
   },
   "outputs": [
    {
     "name": "stdout",
     "output_type": "stream",
     "text": [
      "Instances of the word 'ethics' in 2006 : 456\n",
      "Instances of the word 'ethics' in 2007 : 177\n",
      "Instances of the word 'ethics' in 2008 : 680\n",
      "Instances of the word 'ethics' in 2009 : 333\n",
      "Instances of the word 'ethics' in 2010 : 473\n",
      "Instances of the word 'ethics' in 2011 : 211\n",
      "Instances of the word 'ethics' in 2012 : 285\n",
      "Instances of the word 'ethics' in 2013 : 615\n",
      "Instances of the word 'ethics' in 2014 : 339\n",
      "Instances of the word 'ethics' in 2015 : 156\n",
      "Instances of the word 'ethics' in 39 : 1304\n",
      "Instances of the word 'ethics' in 40 : 911\n",
      "Instances of the word 'ethics' in 41 : 1510\n"
     ]
    }
   ],
   "source": [
    "for words, names in zip(corpus, filenames):\n",
    "    print\"Instances of the word \\'ethics\\' in\",names, \":\", count_in_list(\"ethics\", words)"
   ]
  },
  {
   "cell_type": "markdown",
   "metadata": {},
   "source": [
    "While word frequencies, by themselves, do not give us a tremendous amount of contextual information, they are a valuable first step in conducting large scale text analyses. For instance, returning to our frequency list for <code>privacy</code>, we can observe a general trend suggesting that the use of <code>privacy</code> has been increasing between 2006 and now. It is important to note that our calculations are a raw number. For a more contextual analysis we could calculate how many times the Parliament was in session during each period, or perhaps we could compare the word <code>privacy</code> to the total amount of words in each file.</p>\n",
    "<p>Stay tuned for the next section: <i>Adding Context to Word Frequency Counts</i>"
   ]
  },
  {
   "cell_type": "markdown",
   "metadata": {},
   "source": [
    "--------"
   ]
  }
 ],
 "metadata": {
  "kernelspec": {
   "display_name": "Python 3",
   "language": "python",
   "name": "python3"
  },
  "language_info": {
   "codemirror_mode": {
    "name": "ipython",
    "version": 3
   },
   "file_extension": ".py",
   "mimetype": "text/x-python",
   "name": "python",
   "nbconvert_exporter": "python",
   "pygments_lexer": "ipython3",
   "version": "3.5.2"
  }
 },
 "nbformat": 4,
 "nbformat_minor": 0
}
